{
 "cells": [
  {
   "cell_type": "markdown",
   "metadata": {},
   "source": [
    "### List Comprehension, Tuples and Sets (Important Material)"
   ]
  },
  {
   "cell_type": "markdown",
   "metadata": {},
   "source": [
    "#### ```in``` operator\n",
    "\n",
    "Similar to strings, the ```in``` operator or keyword returns True if the first term is an element of the second term."
   ]
  },
  {
   "cell_type": "code",
   "execution_count": 16,
   "metadata": {},
   "outputs": [
    {
     "name": "stdout",
     "output_type": "stream",
     "text": [
      "True\n",
      "False\n",
      "True\n",
      "False\n"
     ]
    }
   ],
   "source": [
    "# demo: in\n",
    "\n",
    "globe = ['0917','0927']\n",
    "smart = ['0918','0928']\n",
    "\n",
    "print(\"0917\" in globe)\n",
    "print(\"0917\" in smart)\n",
    "print(\"0918\" in smart)\n",
    "print(\"0918\" in globe)\n"
   ]
  },
  {
   "cell_type": "markdown",
   "metadata": {},
   "source": [
    "#### Traversing Lists\n",
    "\n",
    "Similar to strings, we can traverse through list elements through ```while``` and ```for```\n",
    "\n",
    "Recall that ```for``` in strings traverses through characters.\n",
    "\n",
    "The Python creators have found a way to use ```for``` to traverse through elements of a list,  \n",
    "since list is an *iterable* datatype.\n"
   ]
  },
  {
   "cell_type": "code",
   "execution_count": 30,
   "metadata": {},
   "outputs": [
    {
     "name": "stdout",
     "output_type": "stream",
     "text": [
      "americano\n",
      "brewed coffee\n",
      "cappuccino\n",
      "dalgona\n",
      "espresso\n",
      "frapuccino\n"
     ]
    }
   ],
   "source": [
    "# demo: use while\n",
    "products = ['americano','brewed coffee','cappuccino','dalgona','espresso','frapuccino']\n",
    "\n",
    "i = 0\n",
    "\n",
    "while(i<len(products)):\n",
    "    print(products[i])\n",
    "    i += 1\n"
   ]
  },
  {
   "cell_type": "code",
   "execution_count": 31,
   "metadata": {},
   "outputs": [
    {
     "name": "stdout",
     "output_type": "stream",
     "text": [
      "americano\n",
      "brewed coffee\n",
      "cappuccino\n",
      "dalgona\n",
      "espresso\n",
      "frapuccino\n"
     ]
    }
   ],
   "source": [
    "# demo: use for\n",
    "\n",
    "for p in products:\n",
    "    print(p)"
   ]
  },
  {
   "cell_type": "markdown",
   "metadata": {},
   "source": [
    "#### ```range()```\n",
    "\n",
    "The function ```range()``` returns a list-like (hence iterable) value.\n",
    "\n",
    "The normal usage is ```range(num)```, starting with 0 and ending in num-1 (since num is exclusive).\n"
   ]
  },
  {
   "cell_type": "code",
   "execution_count": 37,
   "metadata": {},
   "outputs": [
    {
     "name": "stdout",
     "output_type": "stream",
     "text": [
      "range(0, 10)\n",
      "[0, 1, 2, 3, 4, 5, 6, 7, 8, 9]\n",
      "[0, 1, 2, 3, 4, 5, 6, 7, 8, 9]\n",
      "[3, 4, 5, 6, 7, 8, 9]\n",
      "[0, 1, 2, 3, 4, 5]\n"
     ]
    }
   ],
   "source": [
    "# demo: range(num)\n",
    "print(range(10))\n",
    "\n",
    "# wrap or convert to list\n",
    "print(list(range(10)))\n",
    "\n",
    "# demo: range(start,end)\n",
    "print(list(range(0,10)))\n",
    "\n",
    "\n",
    "# demo: range(start,end)\n",
    "print(list(range(3,10)))\n",
    "\n",
    "print(list(range(len(products))))\n",
    "\n",
    "\n"
   ]
  },
  {
   "cell_type": "code",
   "execution_count": 38,
   "metadata": {},
   "outputs": [
    {
     "name": "stdout",
     "output_type": "stream",
     "text": [
      "americano\n",
      "brewed coffee\n",
      "cappuccino\n",
      "dalgona\n",
      "espresso\n",
      "frapuccino\n"
     ]
    }
   ],
   "source": [
    "for i in range(len(products)):\n",
    "    print(products[i])"
   ]
  },
  {
   "cell_type": "markdown",
   "metadata": {},
   "source": [
    "#### List Comprehension\n"
   ]
  },
  {
   "cell_type": "code",
   "execution_count": 43,
   "metadata": {},
   "outputs": [
    {
     "name": "stdout",
     "output_type": "stream",
     "text": [
      "[0, 1, 2, 3, 4, 5]\n",
      "['AMERICANO', 'BREWED COFFEE', 'CAPPUCCINO', 'DALGONA', 'ESPRESSO', 'FRAPUCCINO']\n",
      "<class 'list'>\n"
     ]
    }
   ],
   "source": [
    "# demo: list comprehension\n",
    "\n",
    "print([i for i in range(0,len(products))])\n",
    "print([p.upper() for p in products])\n",
    "print(type([i for i in range(10)]))"
   ]
  },
  {
   "cell_type": "markdown",
   "metadata": {},
   "source": [
    "### ```for``` revisited"
   ]
  },
  {
   "cell_type": "code",
   "execution_count": 51,
   "metadata": {},
   "outputs": [
    {
     "name": "stdout",
     "output_type": "stream",
     "text": [
      "T h e   q u i c k   b r o w n   f o x   j u m p s   o v e r   t h e   l a z y   d o g s \n",
      "The quick brown fox jumps over the lazy dogs \n",
      "Joben; Joe; Elizabeth; "
     ]
    }
   ],
   "source": [
    "# demo: traverse characters in a string\n",
    "\n",
    "sentence = \"The quick brown fox jumps over the lazy dogs\"\n",
    "\n",
    "for c in sentence:\n",
    "    print(c,end=\" \")\n",
    "    \n",
    "print()\n",
    "    \n",
    "for word in sentence.split():\n",
    "    print(word, end=\" \")\n",
    "    \n",
    "students = \"Joben,Joe,Elizabeth\"\n",
    "\n",
    "print()\n",
    "for student in students.split(\",\"):\n",
    "    print(student, end=\"; \")\n"
   ]
  },
  {
   "cell_type": "markdown",
   "metadata": {},
   "source": [
    "#### Initializing lists\n",
    "\n"
   ]
  },
  {
   "cell_type": "code",
   "execution_count": 53,
   "metadata": {},
   "outputs": [
    {
     "name": "stdout",
     "output_type": "stream",
     "text": [
      "[]\n"
     ]
    }
   ],
   "source": [
    "# demo list initialization\n",
    "empty_list = []\n",
    "\n",
    "print(empty_list)"
   ]
  },
  {
   "cell_type": "markdown",
   "metadata": {},
   "source": [
    "#### ```append()```\n",
    "\n"
   ]
  },
  {
   "cell_type": "code",
   "execution_count": 54,
   "metadata": {},
   "outputs": [
    {
     "name": "stdout",
     "output_type": "stream",
     "text": [
      "['first entry']\n"
     ]
    }
   ],
   "source": [
    "# demo: append()\n",
    "empty_list.append(\"first entry\")\n",
    "print(empty_list)\n"
   ]
  },
  {
   "cell_type": "code",
   "execution_count": 55,
   "metadata": {},
   "outputs": [
    {
     "name": "stdout",
     "output_type": "stream",
     "text": [
      "['first entry', 2]\n"
     ]
    }
   ],
   "source": [
    "empty_list.append(2)\n",
    "print(empty_list)"
   ]
  },
  {
   "cell_type": "code",
   "execution_count": 57,
   "metadata": {},
   "outputs": [
    {
     "name": "stdout",
     "output_type": "stream",
     "text": [
      "['americano', 'brewed coffee', 'cappuccino', 'dalgona', 'espresso', 'frapuccino']\n",
      "['americano', 'brewed coffee', 'cappuccino', 'dalgona', 'espresso', 'frapuccino', 'latte']\n"
     ]
    }
   ],
   "source": [
    "print(products)\n",
    "products.append(\"latte\")\n",
    "print(products)"
   ]
  },
  {
   "cell_type": "markdown",
   "metadata": {},
   "source": [
    "#### ```pop()```"
   ]
  },
  {
   "cell_type": "code",
   "execution_count": 58,
   "metadata": {},
   "outputs": [
    {
     "name": "stdout",
     "output_type": "stream",
     "text": [
      "latte\n"
     ]
    }
   ],
   "source": [
    "# demo: pop()\n",
    "popped_value = products.pop()\n",
    "print(popped_value)\n"
   ]
  },
  {
   "cell_type": "code",
   "execution_count": 59,
   "metadata": {},
   "outputs": [
    {
     "name": "stdout",
     "output_type": "stream",
     "text": [
      "['americano', 'brewed coffee', 'cappuccino', 'dalgona', 'espresso', 'frapuccino']\n"
     ]
    }
   ],
   "source": [
    "print(products)"
   ]
  },
  {
   "cell_type": "markdown",
   "metadata": {},
   "source": [
    "### Lists vs Tuples\n",
    "\n",
    "In Python, a tuple is like a list but is immutable."
   ]
  },
  {
   "cell_type": "code",
   "execution_count": 67,
   "metadata": {},
   "outputs": [
    {
     "name": "stdout",
     "output_type": "stream",
     "text": [
      "(2, 4)\n",
      "('0917', '0927')\n",
      "('0917', '0927')\n",
      "('0918', '0928')\n"
     ]
    }
   ],
   "source": [
    "# demo: tuples\n",
    "print((2,4))\n",
    "print(tuple(globe))\n",
    "\n",
    "# demo: tuple immutability\n",
    "globe_tuple = tuple(globe)\n",
    "smart_tuple = tuple(smart)\n",
    "\n",
    "print(globe_tuple)\n",
    "print(smart_tuple)\n",
    "\n"
   ]
  },
  {
   "cell_type": "markdown",
   "metadata": {},
   "source": [
    "### Sets\n",
    "\n",
    "A set is an **unordered** and **unindexed** collection of **unique** elements."
   ]
  },
  {
   "cell_type": "code",
   "execution_count": 71,
   "metadata": {},
   "outputs": [
    {
     "name": "stdout",
     "output_type": "stream",
     "text": [
      "{1, 2, 3, 4, 5, 10}\n"
     ]
    }
   ],
   "source": [
    "# demo: sets\n",
    "demoset = {10,1,1,2,3,3,4,5,5}\n",
    "print(demoset)"
   ]
  },
  {
   "cell_type": "code",
   "execution_count": 72,
   "metadata": {},
   "outputs": [
    {
     "name": "stdout",
     "output_type": "stream",
     "text": [
      "{1, 2, 3, 4, 5, 99, 10}\n"
     ]
    }
   ],
   "source": [
    "demoset.add(99)\n",
    "print(demoset)"
   ]
  },
  {
   "cell_type": "markdown",
   "metadata": {},
   "source": [
    "### ```zip()```"
   ]
  },
  {
   "cell_type": "code",
   "execution_count": 77,
   "metadata": {},
   "outputs": [
    {
     "name": "stdout",
     "output_type": "stream",
     "text": [
      "[('cappuccino', 120, 'Good'), ('espresso', 140, 'Fair')]\n",
      "[('cappuccino', 120, 'Good'), ('espresso', 140, 'Fair')]\n"
     ]
    }
   ],
   "source": [
    "# demo: basic zip()\n",
    "newproducts = [\"cappuccino\",\"espresso\"]\n",
    "newprices = [120,140]\n",
    "newratings = [\"Good\",\"Fair\"]\n",
    "\n",
    "print(list(zip(newproducts,newprices,newratings)))\n",
    "\n",
    "# demo: use starred expression to unpack\n",
    "print(list(zip(*[newproducts,newprices,newratings])))\n"
   ]
  },
  {
   "cell_type": "markdown",
   "metadata": {},
   "source": [
    "### `all()`\n",
    "\n",
    "The `all()` function returns `True` if all items in an iterable are true, otherwise it returns `False`."
   ]
  },
  {
   "cell_type": "code",
   "execution_count": 84,
   "metadata": {},
   "outputs": [
    {
     "name": "stdout",
     "output_type": "stream",
     "text": [
      "False\n",
      "True\n",
      "True\n"
     ]
    }
   ],
   "source": [
    "# demo: list of integers\n",
    "print(all([1,0,1,1]))\n",
    "\n",
    "print(all([True,True,140==140]))\n",
    "\n",
    "tmplist = [\"A\",\"A\",\"A\",\"A\"]\n",
    "\n",
    "print(all([a==\"A\" for a in tmplist]))\n"
   ]
  },
  {
   "cell_type": "code",
   "execution_count": null,
   "metadata": {},
   "outputs": [],
   "source": [
    "# demo: list comprehension\n"
   ]
  },
  {
   "cell_type": "markdown",
   "metadata": {},
   "source": [
    "### ```sum()```"
   ]
  },
  {
   "cell_type": "code",
   "execution_count": 85,
   "metadata": {},
   "outputs": [
    {
     "name": "stdout",
     "output_type": "stream",
     "text": [
      "45\n"
     ]
    }
   ],
   "source": [
    "# demo: sum()\n",
    "\n",
    "tmplist2 = [15,15,15]\n",
    "print(sum(tmplist2))\n"
   ]
  },
  {
   "cell_type": "markdown",
   "metadata": {},
   "source": [
    "### ```map()```"
   ]
  },
  {
   "cell_type": "code",
   "execution_count": 89,
   "metadata": {},
   "outputs": [
    {
     "name": "stdout",
     "output_type": "stream",
     "text": [
      "['Pass', 'Pass', 'Pass', 'Pass', 'Fail', 'Fail', 'Pass']\n",
      "Pass\n",
      "Pass\n",
      "Pass\n",
      "Pass\n",
      "Fail\n",
      "Fail\n",
      "Pass\n"
     ]
    }
   ],
   "source": [
    "# demo: map()\n",
    "\n",
    "def pass_or_fail(grade):\n",
    "    if grade >= 60:\n",
    "        return \"Pass\"\n",
    "    else:\n",
    "        return \"Fail\"\n",
    "    \n",
    "grades = [90, 94,100,99,59,55,60]\n",
    "\n",
    "print(list(map(pass_or_fail, grades)))\n",
    "\n",
    "for grade in map(pass_or_fail, grades):\n",
    "    print(grade)\n"
   ]
  },
  {
   "cell_type": "markdown",
   "metadata": {},
   "source": [
    "#### Multidimensional Lists\n"
   ]
  },
  {
   "cell_type": "code",
   "execution_count": 10,
   "metadata": {},
   "outputs": [],
   "source": [
    "# demo: matrix def\n",
    "\n",
    "matrix = [[8,1,6],\n",
    "          [3,5,7],\n",
    "          [4,9,2]\n",
    "         ]"
   ]
  },
  {
   "cell_type": "code",
   "execution_count": 93,
   "metadata": {},
   "outputs": [
    {
     "name": "stdout",
     "output_type": "stream",
     "text": [
      "1\n",
      "[8, 5, 2]\n",
      "[4, 5, 6]\n",
      "[(8, 3, 4), (1, 5, 9), (6, 7, 2)]\n"
     ]
    }
   ],
   "source": [
    "# demo: multi-dimensional lists (arrays)\n",
    "print(matrix[0][1])\n",
    "# traverse upper-left to lower-right\n",
    "print([matrix[i][i] for i in range(3)])\n",
    "# traverse lower-left to upper-right:\n",
    "print([matrix[3-1-i][i] for i in range(3)])\n",
    "\n",
    "# demo: using zip with our matrix\n",
    "print([i for i in zip(*matrix)])"
   ]
  },
  {
   "cell_type": "code",
   "execution_count": null,
   "metadata": {},
   "outputs": [],
   "source": []
  }
 ],
 "metadata": {
  "kernelspec": {
   "display_name": "Python 3",
   "language": "python",
   "name": "python3"
  },
  "language_info": {
   "codemirror_mode": {
    "name": "ipython",
    "version": 3
   },
   "file_extension": ".py",
   "mimetype": "text/x-python",
   "name": "python",
   "nbconvert_exporter": "python",
   "pygments_lexer": "ipython3",
   "version": "3.7.4"
  }
 },
 "nbformat": 4,
 "nbformat_minor": 2
}
