{
 "cells": [
  {
   "cell_type": "markdown",
   "metadata": {},
   "source": [
    "### Key formulas\n",
    "\n",
    "Formula:\n",
    "\n",
    "VAT Exempt Sales =  Selling Price ÷ 1.12\n",
    "\n",
    "Formula:\n",
    "\n",
    "Senior Citizen Discount = VAT Exempt Sale x 20%\n",
    "\n",
    "Formula:\n",
    "\n",
    "Amount Collectible = VAT Exempt Sale – Senior Citizen Discount\n",
    "\n",
    "1. compute for vatexemptsale = sellingprice / 1.12\n",
    "\n",
    "2. scd = vatexemptsale * .20\n",
    "\n",
    "3. amtcollectible = vatexemptsale - scd\n",
    "\n",
    "4. print out amtcollectible\n",
    "\n"
   ]
  },
  {
   "cell_type": "code",
   "execution_count": 2,
   "metadata": {},
   "outputs": [
    {
     "name": "stdout",
     "output_type": "stream",
     "text": [
      "Enter selling price :1000\n",
      "714.2857142857142\n"
     ]
    }
   ],
   "source": [
    "sellingprice = float(input(\"Enter selling price :\"))\n",
    "vatexemptsale = sellingprice / 1.12\n",
    "scd = vatexemptsale * .20\n",
    "amtcollectible = vatexemptsale-scd\n",
    "print(amtcollectible)"
   ]
  },
  {
   "cell_type": "code",
   "execution_count": 3,
   "metadata": {},
   "outputs": [
    {
     "name": "stdout",
     "output_type": "stream",
     "text": [
      "Enter selling price :1000\n",
      "714.2857142857142\n"
     ]
    }
   ],
   "source": [
    "sellingprice = float(input(\"Enter selling price :\"))\n",
    "amtcollectible = sellingprice / 1.12 * .80\n",
    "print(amtcollectible)"
   ]
  },
  {
   "cell_type": "code",
   "execution_count": 4,
   "metadata": {},
   "outputs": [
    {
     "name": "stdout",
     "output_type": "stream",
     "text": [
      "Enter selling price :1000\n",
      "714.2857142857142\n"
     ]
    }
   ],
   "source": [
    "sellingprice = float(input(\"Enter selling price :\"))\n",
    "amtcollectible = (sellingprice / 1.12) * .80\n",
    "print(amtcollectible)"
   ]
  },
  {
   "cell_type": "code",
   "execution_count": null,
   "metadata": {},
   "outputs": [],
   "source": []
  }
 ],
 "metadata": {
  "kernelspec": {
   "display_name": "Python 3",
   "language": "python",
   "name": "python3"
  },
  "language_info": {
   "codemirror_mode": {
    "name": "ipython",
    "version": 3
   },
   "file_extension": ".py",
   "mimetype": "text/x-python",
   "name": "python",
   "nbconvert_exporter": "python",
   "pygments_lexer": "ipython3",
   "version": "3.7.4"
  }
 },
 "nbformat": 4,
 "nbformat_minor": 2
}
