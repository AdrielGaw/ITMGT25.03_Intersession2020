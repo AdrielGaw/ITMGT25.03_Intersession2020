{
 "cells": [
  {
   "cell_type": "code",
   "execution_count": 5,
   "metadata": {},
   "outputs": [
    {
     "name": "stdout",
     "output_type": "stream",
     "text": [
      "Enter guess: 42\n",
      "Got it!\n"
     ]
    }
   ],
   "source": [
    "magic_number = 42\n",
    "\n",
    "guess = int(input(\"Enter guess: \"))\n",
    "\n",
    "if guess == magic_number:\n",
    "    print(\"Got it!\")\n",
    "else:\n",
    "    if guess > magic_number:\n",
    "        print(\"It should be lower!\")\n",
    "    else:\n",
    "        print(\"It should be higher!\")"
   ]
  },
  {
   "cell_type": "code",
   "execution_count": 7,
   "metadata": {},
   "outputs": [
    {
     "name": "stdout",
     "output_type": "stream",
     "text": [
      "Enter guess: 41\n",
      "It should be higher!\n",
      "Enter guess: 43\n",
      "It should be lower!\n",
      "Enter guess: 42\n",
      "Got it!\n"
     ]
    }
   ],
   "source": [
    "# add loop\n",
    "\n",
    "magic_number = 42\n",
    "\n",
    "while(True):\n",
    "\n",
    "    guess = int(input(\"Enter guess: \"))\n",
    "\n",
    "    if guess == magic_number:\n",
    "        print(\"Got it!\")\n",
    "        break\n",
    "    else:\n",
    "        if guess > magic_number:\n",
    "            print(\"It should be lower!\")\n",
    "        else:\n",
    "            print(\"It should be higher!\")"
   ]
  },
  {
   "cell_type": "code",
   "execution_count": 9,
   "metadata": {},
   "outputs": [
    {
     "name": "stdout",
     "output_type": "stream",
     "text": [
      "Enter guess: 41\n",
      "It should be higher!\n",
      "Enter guess: -1\n",
      "You requested to exit the program.\n",
      "Good bye.\n"
     ]
    }
   ],
   "source": [
    "# add loop\n",
    "\n",
    "magic_number = 42\n",
    "\n",
    "while(True):\n",
    "\n",
    "    guess = int(input(\"Enter guess: \"))\n",
    "\n",
    "    if guess == -1:\n",
    "        print(\"You requested to exit the program.\")\n",
    "        break\n",
    "    \n",
    "    if guess == magic_number:\n",
    "        print(\"Got it!\")\n",
    "        break\n",
    "    else:\n",
    "        if guess > magic_number:\n",
    "            print(\"It should be lower!\")\n",
    "        else:\n",
    "            print(\"It should be higher!\")\n",
    "            \n",
    "print(\"Good bye.\")"
   ]
  },
  {
   "cell_type": "code",
   "execution_count": 11,
   "metadata": {},
   "outputs": [
    {
     "name": "stdout",
     "output_type": "stream",
     "text": [
      "Enter guess: 41\n",
      "It should be higher!\n",
      "Enter guess: x\n",
      "You entered an invalid format. Please try again.\n",
      "Enter guess: 42\n",
      "Got it!\n",
      "Good bye.\n"
     ]
    }
   ],
   "source": [
    "# add loop\n",
    "\n",
    "magic_number = 42\n",
    "\n",
    "while(True):\n",
    "\n",
    "    try:\n",
    "        guess = int(input(\"Enter guess: \"))\n",
    "    except:\n",
    "        print(\"You entered an invalid format. Please try again.\")\n",
    "        continue\n",
    "\n",
    "    if guess == -1:\n",
    "        print(\"You requested to exit the program.\")\n",
    "        break\n",
    "    \n",
    "    if guess == magic_number:\n",
    "        print(\"Got it!\")\n",
    "        break\n",
    "    else:\n",
    "        if guess > magic_number:\n",
    "            print(\"It should be lower!\")\n",
    "        else:\n",
    "            print(\"It should be higher!\")\n",
    "            \n",
    "print(\"Good bye.\")"
   ]
  },
  {
   "cell_type": "code",
   "execution_count": null,
   "metadata": {},
   "outputs": [],
   "source": []
  }
 ],
 "metadata": {
  "kernelspec": {
   "display_name": "Python 3",
   "language": "python",
   "name": "python3"
  },
  "language_info": {
   "codemirror_mode": {
    "name": "ipython",
    "version": 3
   },
   "file_extension": ".py",
   "mimetype": "text/x-python",
   "name": "python",
   "nbconvert_exporter": "python",
   "pygments_lexer": "ipython3",
   "version": "3.7.4"
  }
 },
 "nbformat": 4,
 "nbformat_minor": 2
}
