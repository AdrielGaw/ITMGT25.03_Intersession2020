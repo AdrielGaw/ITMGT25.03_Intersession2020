{
 "cells": [
  {
   "cell_type": "markdown",
   "metadata": {},
   "source": [
    "### Dictionaries\n",
    "\n",
    "In this video, we'll be discussing Dictionaries. It will be the last among the advanced data types we will be covering in this course.\n",
    "\n",
    "The **dictionary** is among the most powerful data types in Python and is one of my favorites.\n",
    "\n",
    "In Python, dictionaries, like sets, are mutable, unordered collections of items.\n",
    "\n",
    "Metaphor: In regular dictionaries, you **look up** the meaning (\"the value\") for the given word (\"the key\").\n"
   ]
  },
  {
   "cell_type": "code",
   "execution_count": 1,
   "metadata": {},
   "outputs": [
    {
     "name": "stdout",
     "output_type": "stream",
     "text": [
      "{'username': 'joben@example.com'}\n"
     ]
    }
   ],
   "source": [
    "# demo: create a dictionary\n",
    "d1 = {\"username\":\"joben@example.com\"}\n",
    "print(d1)\n"
   ]
  },
  {
   "cell_type": "code",
   "execution_count": 2,
   "metadata": {},
   "outputs": [
    {
     "name": "stdout",
     "output_type": "stream",
     "text": [
      "{'username': 'joben@example.com', 'first name': 'Joben', 'last name': 'Ilagan'}\n"
     ]
    }
   ],
   "source": [
    "# demo: set new key/value pair\n",
    "\n",
    "d1[\"first name\"]=\"Joben\"\n",
    "d1[\"last name\"]=\"Ilagan\"\n",
    "print(d1)"
   ]
  },
  {
   "cell_type": "code",
   "execution_count": 4,
   "metadata": {},
   "outputs": [
    {
     "name": "stdout",
     "output_type": "stream",
     "text": [
      "joben@example.com\n",
      "Joben\n",
      "Ilagan\n"
     ]
    }
   ],
   "source": [
    "# demo: retrieve value for a given key\n",
    "print(d1[\"username\"])\n",
    "print(d1[\"first name\"])\n",
    "print(d1[\"last name\"])\n"
   ]
  },
  {
   "cell_type": "code",
   "execution_count": 25,
   "metadata": {},
   "outputs": [
    {
     "name": "stdout",
     "output_type": "stream",
     "text": [
      "An error occurred\n"
     ]
    }
   ],
   "source": [
    "# demo: error referencing a non-existent key\n",
    "try:\n",
    "    print(d1[\"First Name\"])\n",
    "except:\n",
    "    pass\n",
    "\n",
    "try:\n",
    "    print(d1[\"first_name\"])\n",
    "except:\n",
    "    print(\"An error occurred\")"
   ]
  },
  {
   "cell_type": "markdown",
   "metadata": {},
   "source": [
    "Each item has a key used to reference a value. It's like a variable in this sense. A valid key could be anything immutable like a string, an integer, a boolean, or a tuple. Lists and sets cannot be used as keys."
   ]
  },
  {
   "cell_type": "code",
   "execution_count": 15,
   "metadata": {},
   "outputs": [
    {
     "name": "stdout",
     "output_type": "stream",
     "text": [
      "{'string key': 'First Value', 1: 'Third Value', (1, 2): 'Fourth Value'}\n"
     ]
    }
   ],
   "source": [
    "# demo: valid use of keys\n",
    "\n",
    "d2 = {}\n",
    "d2[\"string key\"]=\"First Value\"\n",
    "d2[1]=\"Second Value\"\n",
    "d2[True]=\"Third Value\"\n",
    "d2[(1,2)]=\"Fourth Value\"\n",
    "print(d2)"
   ]
  },
  {
   "cell_type": "code",
   "execution_count": 17,
   "metadata": {},
   "outputs": [
    {
     "name": "stdout",
     "output_type": "stream",
     "text": [
      "Invalid operation\n"
     ]
    }
   ],
   "source": [
    "# demo: error using mutable types as keys\n",
    "try:\n",
    "    d2[[\"a\",\"b\"]]=\"Fifth Value\"\n",
    "except:\n",
    "    print(\"Invalid operation\")"
   ]
  },
  {
   "cell_type": "markdown",
   "metadata": {},
   "source": [
    "Dictionary values, however, could be any data type or anything referenceable by name."
   ]
  },
  {
   "cell_type": "code",
   "execution_count": 18,
   "metadata": {},
   "outputs": [
    {
     "name": "stdout",
     "output_type": "stream",
     "text": [
      "{'string key': 1, 1: 'Third Value', (1, 2): 'Fourth Value'}\n"
     ]
    }
   ],
   "source": [
    "# demo: basic datatypes as values\n",
    "\n",
    "d2[\"string key\"]=1\n",
    "print(d2)"
   ]
  },
  {
   "cell_type": "code",
   "execution_count": 24,
   "metadata": {},
   "outputs": [
    {
     "name": "stdout",
     "output_type": "stream",
     "text": [
      "{'list key': ['a', 'b', 'c'], 'set key': {1, 2, 3}, 'dict key': {'a': 1, 'b': 2, 'c': ['x', 'y', 'z']}, 'func key': <function f1 at 0x7fc8989104d0>}\n"
     ]
    }
   ],
   "source": [
    "# demo: more complex data types\n",
    "d3 = {}\n",
    "\n",
    "# lists\n",
    "d3[\"list key\"]=[\"a\",\"b\",\"c\"]\n",
    "\n",
    "# sets\n",
    "d3[\"set key\"]={1,2,3,1,2,3}\n",
    "\n",
    "# dictionaries (embedded dictionaries)\n",
    "d3[\"dict key\"]={\"a\":1,\"b\":2,\"c\":[\"x\",\"y\",\"z\"]}\n",
    "\n",
    "def f1():\n",
    "    return True\n",
    "\n",
    "# functions\n",
    "d3[\"func key\"]=f1\n",
    "\n",
    "print(d3)"
   ]
  },
  {
   "cell_type": "markdown",
   "metadata": {},
   "source": [
    "#### Dictionary Functions"
   ]
  },
  {
   "cell_type": "markdown",
   "metadata": {},
   "source": [
    "#### The `dict()` constructor\n",
    "\n",
    "The dict() constructor builds dictionaries directly from sequences of key-value pairs:\n",
    "\n"
   ]
  },
  {
   "cell_type": "code",
   "execution_count": 27,
   "metadata": {},
   "outputs": [
    {
     "name": "stdout",
     "output_type": "stream",
     "text": [
      "{1: 'one', 2: 'two'}\n"
     ]
    }
   ],
   "source": [
    "# demo: dict()\n",
    "d4 = dict([(1,\"one\"),(2,\"two\")])\n",
    "\n",
    "print(d4)\n"
   ]
  },
  {
   "cell_type": "markdown",
   "metadata": {},
   "source": [
    "#### `keys()`\n",
    "\n",
    "Return the keys of a dictionary"
   ]
  },
  {
   "cell_type": "code",
   "execution_count": 34,
   "metadata": {},
   "outputs": [
    {
     "name": "stdout",
     "output_type": "stream",
     "text": [
      "{'username': 'joben@example.com', 'first name': 'Joben', 'last name': 'Ilagan'}\n",
      "dict_keys(['username', 'first name', 'last name'])\n",
      "username\n",
      "first name\n",
      "last name\n",
      "username\n",
      "first name\n",
      "last name\n"
     ]
    }
   ],
   "source": [
    "print(d1)\n",
    "# demo: keys()\n",
    "print(d1.keys())\n",
    "for k in d1.keys():\n",
    "    print(k)\n",
    "\n",
    "# demo: list comprehension/print keys\n",
    "out=[print(k) for k in d1.keys()]\n"
   ]
  },
  {
   "cell_type": "markdown",
   "metadata": {},
   "source": [
    "#### `items()`\n",
    "\n",
    "Return a list of tuples of key/value pairs of the dictionary"
   ]
  },
  {
   "cell_type": "code",
   "execution_count": 36,
   "metadata": {},
   "outputs": [
    {
     "name": "stdout",
     "output_type": "stream",
     "text": [
      "dict_items([('username', 'joben@example.com'), ('first name', 'Joben'), ('last name', 'Ilagan')])\n",
      "('username', 'joben@example.com')\n",
      "('first name', 'Joben')\n",
      "('last name', 'Ilagan')\n"
     ]
    }
   ],
   "source": [
    "# demo: items()\n",
    "print(d1.items())\n",
    "\n",
    "# demo: list comprehension/print items\n",
    "out = [print(i) for i in d1.items()]\n"
   ]
  },
  {
   "cell_type": "markdown",
   "metadata": {},
   "source": [
    "#### `values()`\n",
    "\n",
    "Return a list of values of the dictionary"
   ]
  },
  {
   "cell_type": "code",
   "execution_count": 38,
   "metadata": {},
   "outputs": [
    {
     "name": "stdout",
     "output_type": "stream",
     "text": [
      "dict_values(['joben@example.com', 'Joben', 'Ilagan'])\n",
      "joben@example.com\n",
      "Joben\n",
      "Ilagan\n"
     ]
    }
   ],
   "source": [
    "# demo: values()\n",
    "print(d1.values())\n",
    "\n",
    "# demo: list comprehension/print items\n",
    "out = [print(v) for v in d1.values()]\n"
   ]
  },
  {
   "cell_type": "markdown",
   "metadata": {},
   "source": [
    "#### `get()`\n"
   ]
  },
  {
   "cell_type": "code",
   "execution_count": 40,
   "metadata": {},
   "outputs": [
    {
     "name": "stdout",
     "output_type": "stream",
     "text": [
      "Joben\n",
      "Ilagan\n",
      "Joben\n"
     ]
    }
   ],
   "source": [
    "# demo: get()\n",
    "print(d1.get(\"first name\")) # similar to d1[\"first name\"]\n",
    "print(d1.get(\"last name\")) # similar to d1[\"last name\"]\n",
    "print(d1[\"first name\"])"
   ]
  },
  {
   "cell_type": "markdown",
   "metadata": {},
   "source": [
    "#### `setdefault()`\n",
    "\n",
    "Returns the value of the specified key. If the key does not exist: insert the key, with the specified value"
   ]
  },
  {
   "cell_type": "code",
   "execution_count": 45,
   "metadata": {},
   "outputs": [
    {
     "name": "stdout",
     "output_type": "stream",
     "text": [
      "Pasig\n",
      "Pasig\n",
      "Pasig\n",
      "Quezon City\n"
     ]
    }
   ],
   "source": [
    "try:\n",
    "    print(d1[\"address\"])\n",
    "except:\n",
    "    print(\"Key 'address' does not yet exist.\")\n",
    "\n",
    "# demo: setdefault() - new key\n",
    "address=d1.setdefault(\"address\",\"Pasig\")\n",
    "print(address)\n",
    "# demo: setdefault() - existing key\n",
    "address=d1.setdefault(\"address\",\"Quezon City\")\n",
    "print(address)\n",
    "d1[\"address\"]=\"Quezon City\"\n",
    "print(d1[\"address\"])\n",
    "\n",
    "# demo: setdefault() - create new key/value\n",
    "\n"
   ]
  },
  {
   "cell_type": "markdown",
   "metadata": {},
   "source": [
    "### Complex Dictionary Examples"
   ]
  },
  {
   "cell_type": "code",
   "execution_count": 46,
   "metadata": {},
   "outputs": [],
   "source": [
    "# product catalog:\n",
    "products_dict = {\"americano\":{\"name\":\"Americano\",\"price\":140},\n",
    "                 \"brewed\":{\"name\":\"Brewed Coffee\",\"price\":100},\n",
    "                 \"cappuccino\":{\"name\":\"Cappuccino\",\"price\":110},\n",
    "                 \"dalgona\":{\"name\":\"Dalgona\",\"price\":120},\n",
    "                 \"espresso\":{\"name\":\"Espresso\",\"price\":110}\n",
    "                }\n"
   ]
  },
  {
   "cell_type": "code",
   "execution_count": 47,
   "metadata": {},
   "outputs": [
    {
     "data": {
      "text/plain": [
       "{'americano': {'name': 'Americano', 'price': 140},\n",
       " 'brewed': {'name': 'Brewed Coffee', 'price': 100},\n",
       " 'cappuccino': {'name': 'Cappuccino', 'price': 110},\n",
       " 'dalgona': {'name': 'Dalgona', 'price': 120},\n",
       " 'espresso': {'name': 'Espresso', 'price': 110}}"
      ]
     },
     "execution_count": 47,
     "metadata": {},
     "output_type": "execute_result"
    }
   ],
   "source": [
    "# list products\n",
    "\n",
    "products_dict"
   ]
  },
  {
   "cell_type": "code",
   "execution_count": 49,
   "metadata": {},
   "outputs": [
    {
     "name": "stdout",
     "output_type": "stream",
     "text": [
      "{'name': 'Americano', 'price': 140}\n"
     ]
    }
   ],
   "source": [
    "# get product\n",
    "\n",
    "print(products_dict[\"americano\"])"
   ]
  },
  {
   "cell_type": "code",
   "execution_count": 50,
   "metadata": {},
   "outputs": [
    {
     "name": "stdout",
     "output_type": "stream",
     "text": [
      "110\n"
     ]
    }
   ],
   "source": [
    "# get price\n",
    "\n",
    "print(products_dict[\"cappuccino\"][\"price\"])"
   ]
  },
  {
   "cell_type": "code",
   "execution_count": 51,
   "metadata": {},
   "outputs": [
    {
     "name": "stdout",
     "output_type": "stream",
     "text": [
      "{'americano': {'name': 'Americano', 'price': 140}, 'brewed': {'name': 'Brewed Coffee', 'price': 100}, 'cappuccino': {'name': 'Cappuccino', 'price': 110}, 'dalgona': {'name': 'Dalgona', 'price': 120}, 'espresso': {'name': 'Espresso', 'price': 110}, 'frappucino': {'name': 'Frappucino', 'price': 200}}\n"
     ]
    }
   ],
   "source": [
    "# add product\n",
    "products_dict[\"frappucino\"]={\"name\":\"Frappucino\",\"price\":200}\n",
    "print(products_dict)\n"
   ]
  },
  {
   "cell_type": "code",
   "execution_count": 52,
   "metadata": {},
   "outputs": [
    {
     "name": "stdout",
     "output_type": "stream",
     "text": [
      "{'americano': {'name': 'Americano', 'price': 140}, 'brewed': {'name': 'Brewed Coffee', 'price': 100}, 'cappuccino': {'name': 'Cappuccino', 'price': 110}, 'dalgona': {'name': 'Dalgona', 'price': 120}, 'espresso': {'name': 'Espresso', 'price': 110}, 'frappucino': {'name': 'Frappucino', 'price': 200}}\n"
     ]
    }
   ],
   "source": [
    "# dump product contents\n",
    "print(products_dict)"
   ]
  },
  {
   "cell_type": "code",
   "execution_count": 59,
   "metadata": {},
   "outputs": [
    {
     "data": {
      "text/plain": [
       "[140, 100, 110, 120, 110, 200]"
      ]
     },
     "execution_count": 59,
     "metadata": {},
     "output_type": "execute_result"
    }
   ],
   "source": [
    "# get a list of prices\n",
    "print([p[\"price\"] for p in products_dict.values()])\n"
   ]
  },
  {
   "cell_type": "code",
   "execution_count": 60,
   "metadata": {},
   "outputs": [
    {
     "name": "stdout",
     "output_type": "stream",
     "text": [
      "130.0\n"
     ]
    }
   ],
   "source": [
    "# get the average price of all products\n",
    "list_of_prices = [p[\"price\"] for p in products_dict.values()]\n",
    "number_of_products = len(products_dict)\n",
    "\n",
    "average = sum(list_of_prices)/number_of_products\n",
    "print(average)\n"
   ]
  },
  {
   "cell_type": "markdown",
   "metadata": {},
   "source": [
    "### More complex examples: run function dynamically"
   ]
  },
  {
   "cell_type": "code",
   "execution_count": 61,
   "metadata": {},
   "outputs": [],
   "source": [
    "# define price functions\n",
    "def regular_price(price):\n",
    "    return price\n",
    "\n",
    "def sc_price(price):\n",
    "    return price * .80\n",
    "\n",
    "# define dictionaries\n",
    "price_tiers = {\"REG\":regular_price,\"SC\":sc_price}\n",
    "\n",
    "customers = {\"joben@example.com\":{\"name\":\"Joben Ilagan\",\"tier\":\"SC\"}, \n",
    "             \"joe@example.com\":{\"name\":\"Joe Ilagan\",\"tier\":\"REG\"},\n",
    "             \"chums@example.com\":{\"name\":\"Matthew Uy\",\"tier\":\"REG\"}\n",
    "            }\n",
    "\n",
    "\n",
    "# define main function\n",
    "def quote_price(customer_id, product_id):\n",
    "    tier = customers[customer_id][\"tier\"]\n",
    "    price_func = price_tiers[tier]\n",
    "    base_price = products_dict[product_id][\"price\"]\n",
    "    return price_func(base_price)\n",
    "    \n"
   ]
  },
  {
   "cell_type": "code",
   "execution_count": 64,
   "metadata": {},
   "outputs": [
    {
     "name": "stdout",
     "output_type": "stream",
     "text": [
      "140\n",
      "160.0\n"
     ]
    }
   ],
   "source": [
    "# test main function\n",
    "\n",
    "print(quote_price(\"chums@example.com\",\"americano\"))\n",
    "print(quote_price(\"joben@example.com\",\"frappucino\"))"
   ]
  },
  {
   "cell_type": "code",
   "execution_count": 63,
   "metadata": {},
   "outputs": [
    {
     "data": {
      "text/plain": [
       "{'americano': {'name': 'Americano', 'price': 140},\n",
       " 'brewed': {'name': 'Brewed Coffee', 'price': 100},\n",
       " 'cappuccino': {'name': 'Cappuccino', 'price': 110},\n",
       " 'dalgona': {'name': 'Dalgona', 'price': 120},\n",
       " 'espresso': {'name': 'Espresso', 'price': 110},\n",
       " 'frappucino': {'name': 'Frappucino', 'price': 200}}"
      ]
     },
     "execution_count": 63,
     "metadata": {},
     "output_type": "execute_result"
    }
   ],
   "source": [
    "products_dict"
   ]
  },
  {
   "cell_type": "code",
   "execution_count": null,
   "metadata": {},
   "outputs": [],
   "source": []
  }
 ],
 "metadata": {
  "kernelspec": {
   "display_name": "Python 3",
   "language": "python",
   "name": "python3"
  },
  "language_info": {
   "codemirror_mode": {
    "name": "ipython",
    "version": 3
   },
   "file_extension": ".py",
   "mimetype": "text/x-python",
   "name": "python",
   "nbconvert_exporter": "python",
   "pygments_lexer": "ipython3",
   "version": "3.7.4"
  }
 },
 "nbformat": 4,
 "nbformat_minor": 2
}
