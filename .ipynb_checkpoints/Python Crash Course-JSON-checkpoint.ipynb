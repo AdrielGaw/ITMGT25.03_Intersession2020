{
 "cells": [
  {
   "cell_type": "markdown",
   "metadata": {},
   "source": [
    "### JSON\n",
    "    \n",
    "* In computing, JavaScript Object Notation (JSON) is an open-standard file format that uses human-readable text to transmit data objects consisting of attribute–value pairs and array data types (or any other serializable value). \n",
    "\n",
    "* JSON is a language-independent data format. \n",
    "\n",
    "* It was derived from **JavaScript**\n",
    "\n",
    "* But as of 2017, many programming languages include code to generate and parse JSON-format data. \n",
    "\n",
    "* JSON filenames use the extension .json.\n",
    "\n",
    "*Source: Wikipedia*"
   ]
  },
  {
   "cell_type": "code",
   "execution_count": 3,
   "metadata": {},
   "outputs": [
    {
     "name": "stdout",
     "output_type": "stream",
     "text": [
      "\n",
      "{\"code\":\"espresso\",\"name\":\"Espresso\",\"price\":\"110\"}\n",
      "\n"
     ]
    }
   ],
   "source": [
    "# demo\n",
    "jsonstring = \"\"\"\n",
    "{\"code\":\"espresso\",\"name\":\"Espresso\",\"price\":\"110\"}\n",
    "\"\"\"\n",
    "\n",
    "# display type\n",
    "type(jsonstring)\n",
    "# dump string\n",
    "print(jsonstring)\n"
   ]
  },
  {
   "cell_type": "markdown",
   "metadata": {},
   "source": [
    "#### The `json` module"
   ]
  },
  {
   "cell_type": "code",
   "execution_count": 7,
   "metadata": {},
   "outputs": [
    {
     "name": "stdout",
     "output_type": "stream",
     "text": [
      "{'code': 'espresso', 'name': 'Espresso', 'price': '110'}\n",
      "<class 'dict'>\n"
     ]
    }
   ],
   "source": [
    "import json\n",
    "# demo\n",
    "\n",
    "jsondata = json.loads(jsonstring)\n",
    "# dump json data\n",
    "\n",
    "print(jsondata)\n",
    "# display type\n",
    "\n",
    "print(type(jsondata))\n"
   ]
  },
  {
   "cell_type": "code",
   "execution_count": 12,
   "metadata": {},
   "outputs": [
    {
     "name": "stdout",
     "output_type": "stream",
     "text": [
      "[{'code': 'espresso', 'name': 'Espresso', 'price': '110'}, {'code': 'americano', 'name': 'Americano', 'price': '140'}, {'code': 'cappuccino', 'name': 'Cappuccino', 'price': '120'}]\n",
      "<class 'list'>\n"
     ]
    }
   ],
   "source": [
    "# demo: more complex json string (list or array)\n",
    "jsonliststring = \"\"\"\n",
    "[\n",
    "   {\"code\":\"espresso\",\"name\":\"Espresso\",\"price\":\"110\"},\n",
    "   {\"code\":\"americano\",\"name\":\"Americano\",\"price\":\"140\"},\n",
    "   {\"code\":\"cappuccino\",\"name\":\"Cappuccino\",\"price\":\"120\"}\n",
    "]\n",
    "\"\"\"\n",
    "\n",
    "\n",
    "# convert json to Python data type\n",
    "jsonlistdata = json.loads(jsonliststring)\n",
    "\n",
    "\n",
    "# dump data\n",
    "print(jsonlistdata)\n",
    "\n",
    "# display type\n",
    "print(type(jsonlistdata))\n",
    "\n",
    "\n",
    "\n"
   ]
  },
  {
   "cell_type": "markdown",
   "metadata": {},
   "source": [
    "#### Write Python Data to JSON file"
   ]
  },
  {
   "cell_type": "code",
   "execution_count": 14,
   "metadata": {},
   "outputs": [],
   "source": [
    "# demo: write to JSON file\n",
    "\n",
    "with open('cp_menu.json','w') as menu_file:\n",
    "    json.dump(jsonlistdata, menu_file)\n"
   ]
  },
  {
   "cell_type": "markdown",
   "metadata": {},
   "source": [
    "#### Read JSON from file into Python"
   ]
  },
  {
   "cell_type": "code",
   "execution_count": 15,
   "metadata": {},
   "outputs": [
    {
     "name": "stdout",
     "output_type": "stream",
     "text": [
      "[{'code': 'espresso', 'name': 'Espresso', 'price': '110'}, {'code': 'americano', 'name': 'Americano', 'price': '140'}, {'code': 'cappuccino', 'name': 'Cappuccino', 'price': '120'}, {'code': 'dalgona', 'name': 'Dalgona', 'price': '120'}]\n",
      "<class 'list'>\n"
     ]
    }
   ],
   "source": [
    "# demo: read JSON file\n",
    "\n",
    "with open('cp_menu.json','r') as menu_file:\n",
    "    jsondata2 = json.loads(menu_file.read())\n",
    "\n",
    "print(jsondata2)\n",
    "print(type(jsondata2))\n",
    "\n",
    "\n"
   ]
  },
  {
   "cell_type": "code",
   "execution_count": null,
   "metadata": {},
   "outputs": [],
   "source": []
  }
 ],
 "metadata": {
  "kernelspec": {
   "display_name": "Python 3",
   "language": "python",
   "name": "python3"
  },
  "language_info": {
   "codemirror_mode": {
    "name": "ipython",
    "version": 3
   },
   "file_extension": ".py",
   "mimetype": "text/x-python",
   "name": "python",
   "nbconvert_exporter": "python",
   "pygments_lexer": "ipython3",
   "version": "3.7.4"
  }
 },
 "nbformat": 4,
 "nbformat_minor": 2
}
