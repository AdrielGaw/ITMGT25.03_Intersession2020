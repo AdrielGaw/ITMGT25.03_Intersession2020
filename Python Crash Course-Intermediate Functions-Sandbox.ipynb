{
 "cells": [
  {
   "cell_type": "markdown",
   "metadata": {},
   "source": [
    "## More on Python Functions\n"
   ]
  },
  {
   "cell_type": "markdown",
   "metadata": {},
   "source": [
    "#### Keyword Arguments\n",
    "\n",
    "In previous lessons, we've only dealt mostly with arguments that are positional.\n",
    "\n",
    "You've observed that some Python build-in functions require the use of keywords.\n",
    "\n",
    "We'll be showing how these functions can be define."
   ]
  },
  {
   "cell_type": "code",
   "execution_count": 14,
   "metadata": {},
   "outputs": [
    {
     "name": "stdout",
     "output_type": "stream",
     "text": [
      "1\n",
      "0\n",
      "1.778\n",
      "Invalid function call\n"
     ]
    }
   ],
   "source": [
    "# demo: keyword arguments\n",
    "\n",
    "def demo(a,b):\n",
    "    print(a)\n",
    "    print(b)\n",
    "    \n",
    "demo(1,0)\n",
    "\n",
    "def convert_feet_to_meters(feet,inches):\n",
    "    # by convention, constants (declared as variables) are spelled in UPPERCASE\n",
    "    CONV = 0.3048\n",
    "    \n",
    "    # convert inches to fraction of a foot\n",
    "    fraction_foot = inches/12\n",
    "    \n",
    "    return (feet+fraction_foot)*CONV\n",
    "\n",
    "print(convert_feet_to_meters(5,10))\n",
    "\n",
    "# error if no inches are specified\n",
    "try:\n",
    "    print(convert_feet_to_meters(5))\n",
    "except:\n",
    "    print(\"Invalid function call\")\n"
   ]
  },
  {
   "cell_type": "markdown",
   "metadata": {},
   "source": [
    "#### Default Argument Values\n",
    "\n",
    "Specify a default value"
   ]
  },
  {
   "cell_type": "code",
   "execution_count": 10,
   "metadata": {},
   "outputs": [
    {
     "name": "stdout",
     "output_type": "stream",
     "text": [
      "1.778\n",
      "1.524\n",
      "Invalid parameter call\n"
     ]
    }
   ],
   "source": [
    "# demo: define a function with default parameters\n",
    "\n",
    "def convert_feet_to_meters(feet,inches=0):\n",
    "    # by convention, constants (declared as variables) are spelled in UPPERCASE\n",
    "    CONV = 0.3048\n",
    "    \n",
    "    # convert inches to fraction of a foot\n",
    "    fraction_foot = inches/12\n",
    "    \n",
    "    return (feet+fraction_foot)*CONV\n",
    "\n",
    "print(convert_feet_to_meters(5,10))\n",
    "print(convert_feet_to_meters(5))\n",
    "\n",
    "# what if no parameters are passed at all?\n",
    "try:\n",
    "    print(convert_feet_to_meters())\n",
    "except:\n",
    "    print(\"Invalid parameter call\")\n"
   ]
  },
  {
   "cell_type": "code",
   "execution_count": 11,
   "metadata": {},
   "outputs": [
    {
     "name": "stdout",
     "output_type": "stream",
     "text": [
      "1.524\n"
     ]
    }
   ],
   "source": [
    "# fix\n",
    "def convert_feet_to_meters(feet=5,inches=0):\n",
    "    # by convention, constants (declared as variables) are spelled in UPPERCASE\n",
    "    CONV = 0.3048\n",
    "    \n",
    "    # convert inches to fraction of a foot\n",
    "    fraction_foot = inches/12\n",
    "    \n",
    "    return (feet+fraction_foot)*CONV\n",
    "\n",
    "print(convert_feet_to_meters())"
   ]
  },
  {
   "cell_type": "code",
   "execution_count": 13,
   "metadata": {},
   "outputs": [
    {
     "name": "stdout",
     "output_type": "stream",
     "text": [
      "3.048\n",
      "1.778\n"
     ]
    }
   ],
   "source": [
    "# demo: positional\n",
    "print(convert_feet_to_meters(10))\n",
    "\n",
    "# use keyword argument\n",
    "print(convert_feet_to_meters(inches=10))"
   ]
  },
  {
   "cell_type": "code",
   "execution_count": 16,
   "metadata": {},
   "outputs": [
    {
     "name": "stdout",
     "output_type": "stream",
     "text": [
      "Without discount: 100\n",
      "With discount: 80.0\n"
     ]
    }
   ],
   "source": [
    "# business example\n",
    "\n",
    "def quote_price(price,discount=0):\n",
    "    return price*(1-discount)\n",
    "\n",
    "base_price=100\n",
    "print(\"Without discount: {}\".format(quote_price(base_price)))\n",
    "print(\"With discount: {}\".format(quote_price(base_price,0.20)))"
   ]
  },
  {
   "cell_type": "markdown",
   "metadata": {},
   "source": [
    "### Arbitrary Argument Lists"
   ]
  },
  {
   "cell_type": "code",
   "execution_count": 79,
   "metadata": {},
   "outputs": [
    {
     "name": "stdout",
     "output_type": "stream",
     "text": [
      "(1, 2, 3, 4, 5)\n"
     ]
    }
   ],
   "source": [
    "def arbitrary_arg_demo(*x):\n",
    "    print(x)\n",
    "    \n",
    "arbitrary_arg_demo(1,2,3,4,5)\n",
    "       \n",
    "    "
   ]
  },
  {
   "cell_type": "markdown",
   "metadata": {},
   "source": [
    "### Unpacking Arguments\n",
    "\n",
    "The reverse situation occurs when the arguments are already in a list or tuple but need to be unpacked for a function call requiring separate positional arguments."
   ]
  },
  {
   "cell_type": "code",
   "execution_count": null,
   "metadata": {},
   "outputs": [],
   "source": [
    "# demo\n",
    "\n",
    "def arbitrary_arg_demo(*x):\n",
    "    print(x)\n",
    "    \n",
    "arbitrary_arg_demo(*[1,2,3,4,5])\n",
    "\n",
    "\n",
    "def double_star_demo_double(first,second):\n",
    "    print(first)\n",
    "    print(second)\n",
    "    \n",
    "double_star_demo_double(1000,2000)\n",
    "\n",
    "double_star_demo_double(**{\"first\":1000,\"second\":2000})\n",
    "       \n"
   ]
  },
  {
   "cell_type": "markdown",
   "metadata": {},
   "source": [
    "### Lambda Expressions\n",
    "\n",
    "There will be times it would be overkill to define formal functions when one line in the body would do.\n",
    "\n",
    "Lambda functions are also sometimes called **anonymous functions**.\n",
    "\n",
    "Small anonymous functions can be created with the lambda keyword.\n",
    "\n",
    "Syntactic sugar.\n",
    "\n",
    "Limitations: Usually constrained with one line. Use regular function definitions if you need more.\n"
   ]
  },
  {
   "cell_type": "code",
   "execution_count": 22,
   "metadata": {},
   "outputs": [
    {
     "name": "stdout",
     "output_type": "stream",
     "text": [
      "<function <lambda> at 0x7fd01ef8c050>\n",
      "4\n",
      "0917\n"
     ]
    }
   ],
   "source": [
    "# demo\n",
    "\n",
    "y = lambda x: x**2\n",
    "print(y)\n",
    "\n",
    "# execute function\n",
    "print(y(2))\n",
    "\n",
    "# demo: get mobile number prefix\n",
    "get_prefix = lambda x: x[0:4]\n",
    "\n",
    "print(get_prefix(\"09178999999\"))\n"
   ]
  },
  {
   "cell_type": "markdown",
   "metadata": {},
   "source": [
    "They become even more useful when some functions you wish to call need a function as an argument (and a lambda function would suffice).\n",
    "\n",
    "We will be encountering these when we discuss topics on Data Analytics (ex. Pandas)"
   ]
  },
  {
   "cell_type": "code",
   "execution_count": 24,
   "metadata": {},
   "outputs": [],
   "source": []
  }
 ],
 "metadata": {
  "kernelspec": {
   "display_name": "Python 3",
   "language": "python",
   "name": "python3"
  },
  "language_info": {
   "codemirror_mode": {
    "name": "ipython",
    "version": 3
   },
   "file_extension": ".py",
   "mimetype": "text/x-python",
   "name": "python",
   "nbconvert_exporter": "python",
   "pygments_lexer": "ipython3",
   "version": "3.7.4"
  }
 },
 "nbformat": 4,
 "nbformat_minor": 2
}
