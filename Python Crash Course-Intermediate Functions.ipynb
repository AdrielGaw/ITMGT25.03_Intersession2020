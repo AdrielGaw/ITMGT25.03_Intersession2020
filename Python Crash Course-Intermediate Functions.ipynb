{
 "cells": [
  {
   "cell_type": "markdown",
   "metadata": {},
   "source": [
    "## More on Python Functions\n"
   ]
  },
  {
   "cell_type": "markdown",
   "metadata": {},
   "source": [
    "#### Keyword Arguments\n",
    "\n",
    "In previous lessons, we've only dealt mostly with arguments that are positional.\n",
    "\n",
    "You've observed that some Python build-in functions require the use of keywords.\n",
    "\n",
    "We'll be showing how these functions can be define."
   ]
  },
  {
   "cell_type": "code",
   "execution_count": 8,
   "metadata": {},
   "outputs": [
    {
     "name": "stdout",
     "output_type": "stream",
     "text": [
      "1 2\n"
     ]
    },
    {
     "data": {
      "text/plain": [
       "1.778"
      ]
     },
     "execution_count": 8,
     "metadata": {},
     "output_type": "execute_result"
    }
   ],
   "source": [
    "# demo: regular function using positional arguments\n",
    "def func1(a, b):\n",
    "    print(\"{} {}\".format(a, b))\n",
    "          \n",
    "func1(1, 2)\n",
    "\n",
    "# demo problem: convert feet and inches to meters\n",
    "\n",
    "def convert_feet_to_meters(feet, inches):\n",
    "    CONV = 0.3048\n",
    "    foot_fraction = inches / 12\n",
    "    length_in_feet = feet + foot_fraction\n",
    "    meters = length_in_feet * CONV\n",
    "    return meters\n",
    "\n",
    "convert_feet_to_meters(5,10)\n",
    "\n",
    "# demo: keyword arguments\n",
    "\n",
    "convert_feet_to_meters(feet=5,inches=10)\n"
   ]
  },
  {
   "cell_type": "markdown",
   "metadata": {},
   "source": [
    "#### Default Argument Values\n",
    "\n",
    "Specify a default value"
   ]
  },
  {
   "cell_type": "code",
   "execution_count": 14,
   "metadata": {},
   "outputs": [
    {
     "name": "stdout",
     "output_type": "stream",
     "text": [
      "1.524\n",
      "1.524\n",
      "1.8288000000000002\n",
      "3.048\n",
      "1.778\n"
     ]
    }
   ],
   "source": [
    "# demo: define a function with default parameters\n",
    "def convert_feet_to_meters(feet=5, inches=0):\n",
    "    CONV = 0.3048\n",
    "    foot_fraction = inches / 12\n",
    "    length_in_feet = feet + foot_fraction\n",
    "    meters = length_in_feet * CONV\n",
    "    return meters\n",
    "\n",
    "\n",
    "# what if no parameters are passed at all?\n",
    "print(convert_feet_to_meters()) # we assume feet=5 and inches=0\n",
    "print(convert_feet_to_meters(5)) # we assume inches=0\n",
    "print(convert_feet_to_meters(6))\n",
    "print(convert_feet_to_meters(10)) # wrong--10 is assumed to be the feet parameter\n",
    "print(convert_feet_to_meters(inches=10)) #assumes feet=5"
   ]
  },
  {
   "cell_type": "code",
   "execution_count": 17,
   "metadata": {},
   "outputs": [
    {
     "name": "stdout",
     "output_type": "stream",
     "text": [
      "Without discount: 100\n",
      "Without discount: 100\n",
      "With SC discount: 80.0\n"
     ]
    }
   ],
   "source": [
    "# business example\n",
    "def compute_quote(price, discount=0):\n",
    "    return price*(1-discount)\n",
    "\n",
    "print(\"Without discount: {}\".format(compute_quote(100)))\n",
    "print(\"Without discount: {}\".format(compute_quote(100,0)))\n",
    "print(\"With SC discount: {}\".format(compute_quote(100,.20)))\n"
   ]
  },
  {
   "cell_type": "markdown",
   "metadata": {},
   "source": [
    "### Arbitrary Argument Lists"
   ]
  },
  {
   "cell_type": "code",
   "execution_count": 21,
   "metadata": {},
   "outputs": [
    {
     "name": "stdout",
     "output_type": "stream",
     "text": [
      "1\n",
      "2\n",
      "3\n",
      "4\n",
      "5\n"
     ]
    }
   ],
   "source": [
    "def arbitrary_parameter_demo(*x):\n",
    "    for y in x:\n",
    "        print(y)\n",
    "    \n",
    "arbitrary_parameter_demo(1,2,3,4,5)\n",
    "    "
   ]
  },
  {
   "cell_type": "markdown",
   "metadata": {},
   "source": [
    "### Unpacking Arguments\n",
    "\n",
    "The reverse situation occurs when the arguments are already in a list or tuple but need to be unpacked for a function call requiring separate positional arguments."
   ]
  },
  {
   "cell_type": "code",
   "execution_count": 36,
   "metadata": {},
   "outputs": [
    {
     "name": "stdout",
     "output_type": "stream",
     "text": [
      "Hello\n",
      "world\n",
      "val1\n",
      "val2\n",
      "val1\n",
      "val2\n",
      "-------\n",
      "val1\n",
      "val2\n"
     ]
    }
   ],
   "source": [
    "# demo\n",
    "\n",
    "def arbitrary_parameter_demo(*x):\n",
    "    for y in x:\n",
    "        print(y)\n",
    "    \n",
    "# param_list = [1,2,3,4,5,6,7,8,9,10]\n",
    "#param_list = range(0,10)\n",
    "param_list = \"Hello world\".split()\n",
    "arbitrary_parameter_demo(*param_list)\n",
    "\n",
    "\n",
    "\n",
    "# double star -> uses dictionary\n",
    "\n",
    "def double_star_demo(first, second):\n",
    "    print(first)\n",
    "    print(second)\n",
    "    \n",
    "double_star_demo(\"val1\",\"val2\")\n",
    "\n",
    "double_star_demo(first=\"val1\",second=\"val2\")\n",
    "\n",
    "param_dict={\"first\":\"val1\", \"second\":\"val2\"}\n",
    "\n",
    "print(\"-------\")\n",
    "double_star_demo(**param_dict)\n"
   ]
  },
  {
   "cell_type": "markdown",
   "metadata": {},
   "source": [
    "### Lambda Expressions\n",
    "\n",
    "There will be times it would be overkill to define formal functions when one line in the body would do.\n",
    "\n",
    "Lambda functions are also sometimes called **anonymous functions**.\n",
    "\n",
    "Small anonymous functions can be created with the lambda keyword.\n",
    "\n",
    "Syntactic sugar.\n",
    "\n",
    "Limitations: Usually constrained with one line. Use regular function definitions if you need more.\n"
   ]
  },
  {
   "cell_type": "code",
   "execution_count": 40,
   "metadata": {},
   "outputs": [
    {
     "name": "stdout",
     "output_type": "stream",
     "text": [
      "4\n"
     ]
    },
    {
     "data": {
      "text/plain": [
       "'0917'"
      ]
     },
     "execution_count": 40,
     "metadata": {},
     "output_type": "execute_result"
    }
   ],
   "source": [
    "# demo\n",
    "y = lambda x: x**2\n",
    "\n",
    "# execute function\n",
    "print(y(2))\n",
    "\n",
    "\n",
    "# demo: get mobile number prefix\n",
    "mobile_no = \"09179999999\"\n",
    "\n",
    "y = lambda x: x[0:4]\n",
    "y(mobile_no)"
   ]
  },
  {
   "cell_type": "markdown",
   "metadata": {},
   "source": [
    "They become even more useful when some functions you wish to call need a function as an argument (and a lambda function would suffice).\n",
    "\n",
    "We will be encountering these when we discuss topics on Data Analytics (ex. Pandas)"
   ]
  },
  {
   "cell_type": "code",
   "execution_count": null,
   "metadata": {},
   "outputs": [],
   "source": []
  }
 ],
 "metadata": {
  "kernelspec": {
   "display_name": "Python 3",
   "language": "python",
   "name": "python3"
  },
  "language_info": {
   "codemirror_mode": {
    "name": "ipython",
    "version": 3
   },
   "file_extension": ".py",
   "mimetype": "text/x-python",
   "name": "python",
   "nbconvert_exporter": "python",
   "pygments_lexer": "ipython3",
   "version": "3.7.4"
  }
 },
 "nbformat": 4,
 "nbformat_minor": 2
}
