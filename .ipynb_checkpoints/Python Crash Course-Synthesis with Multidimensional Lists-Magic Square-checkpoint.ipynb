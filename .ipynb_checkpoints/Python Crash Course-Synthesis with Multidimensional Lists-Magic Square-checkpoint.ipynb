{
 "cells": [
  {
   "cell_type": "markdown",
   "metadata": {},
   "source": [
    "### Synthesis with Multidimensional Lists"
   ]
  },
  {
   "attachments": {
    "image.png": {
     "image/png": "[encoded data removed]"
    }
   },
   "cell_type": "markdown",
   "metadata": {},
   "source": [
    "![image.png](attachment:image.png)\n",
    "\n",
    "A magic square is a square array of numbers consisting of the distinct positive integers 1, 2, ..., n^2 arranged such that the sum of the n numbers in any horizontal, vertical, or main diagonal line is always the same number (Kraitchik 1942, p. 142; Andrews 1960, p. 1; Gardner 1961, p. 130; Madachy 1979, p. 84; Benson and Jacoby 1981, p. 3; Ball and Coxeter 1987, p. 193), known as the magic constant\n"
   ]
  },
  {
   "attachments": {
    "image.png": {
     "image/png": "[encoded data removed]"
    }
   },
   "cell_type": "markdown",
   "metadata": {},
   "source": [
    "![image.png](attachment:image.png)"
   ]
  },
  {
   "cell_type": "markdown",
   "metadata": {},
   "source": [
    "\n",
    "Source: [Wolfram Alpha-Magic Square](https://mathworld.wolfram.com/MagicSquare.html)"
   ]
  },
  {
   "cell_type": "markdown",
   "metadata": {},
   "source": [
    "#### Magic Square\n",
    "\n",
    "In recreational mathematics and combinatorial design, a magic square is a square grid (where n is the number of cells on each side) filled with distinct positive integers in the range. such that each cell contains a different integer and the sum of the integers in each row, column and diagonal is equal.\n",
    "\n",
    "row\\column|1|2|3  \n",
    "-|-|-|-  \n",
    "**1**|8|1|6  \n",
    "**2**|3|5|7  \n",
    "**3**|4|9|2  "
   ]
  },
  {
   "cell_type": "markdown",
   "metadata": {},
   "source": [
    "#### Magic Square: Putting it all together\n",
    "\n",
    "Whiteboard discussion"
   ]
  },
  {
   "cell_type": "code",
   "execution_count": 1,
   "metadata": {},
   "outputs": [
    {
     "name": "stdout",
     "output_type": "stream",
     "text": [
      "[[8, 1, 6], [3, 5, 7], [4, 9, 2]]\n"
     ]
    }
   ],
   "source": [
    "# demo: matrix def\n",
    "\n",
    "matrix = [[8,1,6],\n",
    "          [3,5,7],\n",
    "          [4,9,2]\n",
    "         ]\n",
    "\n",
    "print(matrix)"
   ]
  },
  {
   "cell_type": "markdown",
   "metadata": {},
   "source": [
    "#### General approach:\n",
    "\n",
    "Get the sum of all horizontals, all verticals, and both diagonals."
   ]
  },
  {
   "cell_type": "code",
   "execution_count": 8,
   "metadata": {},
   "outputs": [
    {
     "name": "stdout",
     "output_type": "stream",
     "text": [
      "[15, 15, 15]\n",
      "True\n",
      "[None, None, None]\n",
      "{15}\n",
      "True\n"
     ]
    }
   ],
   "source": [
    "# Horizontal Sums\n",
    "print([sum(x) for x in matrix])\n",
    "horizontal_sums = [sum(x) for x in matrix]\n",
    "\n",
    "# How to determine that all sums are the same?\n",
    "\n",
    "\n",
    "# Approach 1: use all()\n",
    "print(all([s==15 for s in horizontal_sums]))\n",
    "\n",
    "# Approach 2: use a set sumset_horizontal and assert that len(sumset_horizontal)==1\n",
    "sumset_horizontal = set()\n",
    "print([sumset_horizontal.add(s) for s in horizontal_sums])\n",
    "print(sumset_horizontal)\n",
    "print(len(sumset_horizontal)==1)"
   ]
  },
  {
   "cell_type": "code",
   "execution_count": 13,
   "metadata": {},
   "outputs": [
    {
     "name": "stdout",
     "output_type": "stream",
     "text": [
      "[[8, 1, 6], [3, 5, 7], [4, 9, 2]]\n",
      "but we want verticals as elements...\n",
      "[(8, 3, 4), (1, 5, 9), (6, 7, 2)]\n",
      "[15, 15, 15]\n",
      "True\n",
      "[None, None, None]\n",
      "{15}\n",
      "True\n"
     ]
    }
   ],
   "source": [
    "# Vertical Sums\n",
    "\n",
    "print([x for x in matrix])\n",
    "print(\"but we want verticals as elements...\")\n",
    "print([x for x in zip(*matrix)])\n",
    "\n",
    "vertical_sums = [sum(x) for x in zip(*matrix)]\n",
    "print(vertical_sums)\n",
    "\n",
    "# How to determine that all sums are the same?\n",
    "\n",
    "\n",
    "# Approach 1: use all()\n",
    "print(all([s==15 for s in vertical_sums]))\n",
    "\n",
    "# Approach 2: use a set sumset_vertical and assert that len(sumset_vertical)==1\n",
    "sumset_vertical = set()\n",
    "print([sumset_vertical.add(s) for s in vertical_sums])\n",
    "print(sumset_vertical)\n",
    "print(len(sumset_vertical)==1)\n",
    "\n"
   ]
  },
  {
   "cell_type": "markdown",
   "metadata": {},
   "source": [
    "#### enumerate()\n",
    "\n",
    "Returns the index and the value of each element in an iterator"
   ]
  },
  {
   "cell_type": "code",
   "execution_count": 21,
   "metadata": {},
   "outputs": [
    {
     "name": "stdout",
     "output_type": "stream",
     "text": [
      "0 : a\n",
      "1 : b\n",
      "2 : c\n",
      "------\n",
      "0 : a\n",
      "1 : b\n",
      "2 : c\n",
      "------\n",
      "0 : a\n",
      "1 : b\n",
      "2 : c\n"
     ]
    }
   ],
   "source": [
    "# without enumerate()\n",
    "i = 0\n",
    "for v in ['a','b','c']:\n",
    "    print(i,\":\",v)\n",
    "    i += 1\n",
    "print(\"------\")    \n",
    "# with enumerate()\n",
    "for i,v in enumerate(['a','b','c']):\n",
    "    print(i,\":\",v)\n",
    "    \n",
    "print(\"------\")\n",
    "# also using enumerate()\n",
    "for e in enumerate(['a','b','c']):\n",
    "    print(e[0],\":\",e[1])\n",
    "    "
   ]
  },
  {
   "cell_type": "code",
   "execution_count": 38,
   "metadata": {},
   "outputs": [
    {
     "name": "stdout",
     "output_type": "stream",
     "text": [
      "[[8, 1, 6], [3, 5, 7], [4, 9, 2]]\n",
      "8\n",
      "5\n",
      "2\n",
      "15\n",
      "15\n"
     ]
    }
   ],
   "source": [
    "# Diagonal up-down [8, 5, 2]\n",
    "print(matrix)\n",
    "\n",
    "print(matrix[0][0])\n",
    "print(matrix[1][1])\n",
    "print(matrix[2][2])\n",
    "\n",
    "print(sum([matrix[i][i] for i,v in enumerate(matrix)]))\n",
    "\n",
    "updown_diagonal_sum = sum([matrix[i][i] for i,v in enumerate(matrix)])\n",
    "print(updown_diagonal_sum)"
   ]
  },
  {
   "cell_type": "code",
   "execution_count": 39,
   "metadata": {},
   "outputs": [
    {
     "name": "stdout",
     "output_type": "stream",
     "text": [
      "4\n",
      "5\n",
      "6\n",
      "15\n",
      "15\n"
     ]
    }
   ],
   "source": [
    "# Diagonal down-up [4, 5, 6]\n",
    "print(matrix[2][0])\n",
    "print(matrix[1][1])\n",
    "print(matrix[0][2])\n",
    "\n",
    "print(sum([matrix[2-i][i] for i,v in enumerate(matrix)]))\n",
    "\n",
    "downup_diagonal_sum = sum([matrix[i][i] for i,v in enumerate(matrix)])\n",
    "print(downup_diagonal_sum)"
   ]
  },
  {
   "cell_type": "code",
   "execution_count": 52,
   "metadata": {},
   "outputs": [
    {
     "name": "stdout",
     "output_type": "stream",
     "text": [
      "[15, 15, 15]\n",
      "[15, 15, 15]\n",
      "15\n",
      "15\n",
      "[15, 15, 15, 15, 15, 15, 15, 15]\n",
      "True\n",
      "{15}\n",
      "{15}\n",
      "{15}\n",
      "{15}\n",
      "True\n"
     ]
    }
   ],
   "source": [
    "# Finally ...\n",
    "print(horizontal_sums)\n",
    "print(vertical_sums)\n",
    "print(updown_diagonal_sum)\n",
    "print(downup_diagonal_sum)\n",
    "\n",
    "# Approach 1: \n",
    "# Create a new list, extend all horizontal and vertical sums, and append diagonal sums\n",
    "# Use all()\n",
    "full_sum_list = []\n",
    "full_sum_list = horizontal_sums + vertical_sums + [updown_diagonal_sum, downup_diagonal_sum]\n",
    "print(full_sum_list)\n",
    "print(all([s==15 for s in full_sum_list]))\n",
    "\n",
    "\n",
    "print(sumset_horizontal)\n",
    "print(sumset_vertical)\n",
    "\n",
    "# Approach 2:\n",
    "# Create new set sumset and add diagonal sums\n",
    "# sumset = set()\n",
    "\n",
    "sumset = sumset_horizontal.union(sumset_vertical)\n",
    "print(sumset)\n",
    "sumset.add(updown_diagonal_sum)\n",
    "sumset.add(downup_diagonal_sum)\n",
    "print(sumset)\n",
    "\n",
    "print(len(sumset)==1)"
   ]
  },
  {
   "cell_type": "code",
   "execution_count": null,
   "metadata": {},
   "outputs": [],
   "source": []
  }
 ],
 "metadata": {
  "kernelspec": {
   "display_name": "Python 3",
   "language": "python",
   "name": "python3"
  },
  "language_info": {
   "codemirror_mode": {
    "name": "ipython",
    "version": 3
   },
   "file_extension": ".py",
   "mimetype": "text/x-python",
   "name": "python",
   "nbconvert_exporter": "python",
   "pygments_lexer": "ipython3",
   "version": "3.7.4"
  }
 },
 "nbformat": 4,
 "nbformat_minor": 2
}
