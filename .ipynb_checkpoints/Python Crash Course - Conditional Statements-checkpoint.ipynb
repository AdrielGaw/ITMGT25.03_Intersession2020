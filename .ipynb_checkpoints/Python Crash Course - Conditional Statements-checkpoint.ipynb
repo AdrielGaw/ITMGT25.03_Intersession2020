{
 "cells": [
  {
   "cell_type": "markdown",
   "metadata": {},
   "source": [
    "### Review: Conditional Expressions\n",
    "\n",
    "a < b  \n",
    "a <= b  \n",
    "a > b  \n",
    "a >= b  \n",
    "a == b  \n",
    "\n",
    "### Review: Logical Expressions\n",
    "a and b  \n",
    "a or b  \n",
    "not a  \n",
    "not b  "
   ]
  },
  {
   "cell_type": "code",
   "execution_count": 1,
   "metadata": {},
   "outputs": [
    {
     "data": {
      "text/plain": [
       "True"
      ]
     },
     "execution_count": 1,
     "metadata": {},
     "output_type": "execute_result"
    }
   ],
   "source": [
    "True"
   ]
  },
  {
   "cell_type": "code",
   "execution_count": 2,
   "metadata": {},
   "outputs": [
    {
     "data": {
      "text/plain": [
       "False"
      ]
     },
     "execution_count": 2,
     "metadata": {},
     "output_type": "execute_result"
    }
   ],
   "source": [
    "False"
   ]
  },
  {
   "cell_type": "code",
   "execution_count": 4,
   "metadata": {},
   "outputs": [],
   "source": [
    "if False:\n",
    "    print(\"This is True\")"
   ]
  },
  {
   "cell_type": "code",
   "execution_count": 12,
   "metadata": {},
   "outputs": [
    {
     "name": "stdout",
     "output_type": "stream",
     "text": [
      "x is less than 10\n",
      "the condition is met!\n"
     ]
    }
   ],
   "source": [
    "x = 9\n",
    "\n",
    "if x < 10:\n",
    "    print(\"x is less than 10\")\n",
    "    \n",
    "    print(\"the condition is met!\")"
   ]
  },
  {
   "cell_type": "code",
   "execution_count": 16,
   "metadata": {},
   "outputs": [
    {
     "name": "stdout",
     "output_type": "stream",
     "text": [
      "Password: Qwerty\n",
      "Passwords do not match.\n"
     ]
    }
   ],
   "source": [
    "password = input(\"Password: \")\n",
    "\n",
    "if password==\"qwerty\":\n",
    "    print(\"Login is successful.\")\n",
    "else:\n",
    "    print(\"Passwords do not match.\")"
   ]
  },
  {
   "cell_type": "code",
   "execution_count": 22,
   "metadata": {},
   "outputs": [
    {
     "name": "stdout",
     "output_type": "stream",
     "text": [
      "Enter integer: 0\n",
      "neither positive nor negative\n"
     ]
    }
   ],
   "source": [
    "x = int(input(\"Enter integer: \"))\n",
    "\n",
    "if x > 0:\n",
    "    # any integer greater than 0 is positive\n",
    "    print(\"positive number\")\n",
    "elif x < 0:\n",
    "    # any integer less than 0 is negative\n",
    "    print(\"negative number\")\n",
    "else:\n",
    "    # neither positive nor negative\n",
    "    print(\"neither positive nor negative\")"
   ]
  },
  {
   "cell_type": "markdown",
   "metadata": {},
   "source": [
    "## More complex example"
   ]
  },
  {
   "cell_type": "code",
   "execution_count": 30,
   "metadata": {},
   "outputs": [
    {
     "name": "stdout",
     "output_type": "stream",
     "text": [
      "Enter grade: 73\n",
      "C\n"
     ]
    }
   ],
   "source": [
    "# Letter Grade\n",
    "# Task:\n",
    "# Print out the letter grade for a given numeric score\n",
    "\n",
    "grade = int(input(\"Enter grade: \"))\n",
    "\n",
    "if grade >=92 and grade <= 100:\n",
    "    print(\"A\")\n",
    "elif grade >=86 and grade <= 91:\n",
    "    print(\"B+\")\n",
    "elif grade >=80 and grade <= 85:\n",
    "    print(\"B\")\n",
    "elif grade >=74 and grade <= 79:\n",
    "    print(\"C+\")\n",
    "elif grade >=67 and grade <= 73:\n",
    "    print(\"C\")\n",
    "elif grade >=60 and grade <= 66:\n",
    "    print(\"D\")\n",
    "elif grade >=0 and grade <= 59:\n",
    "    print(\"F\")\n",
    "    "
   ]
  },
  {
   "cell_type": "code",
   "execution_count": null,
   "metadata": {},
   "outputs": [],
   "source": []
  }
 ],
 "metadata": {
  "kernelspec": {
   "display_name": "Python 3",
   "language": "python",
   "name": "python3"
  },
  "language_info": {
   "codemirror_mode": {
    "name": "ipython",
    "version": 3
   },
   "file_extension": ".py",
   "mimetype": "text/x-python",
   "name": "python",
   "nbconvert_exporter": "python",
   "pygments_lexer": "ipython3",
   "version": "3.7.4"
  }
 },
 "nbformat": 4,
 "nbformat_minor": 2
}
