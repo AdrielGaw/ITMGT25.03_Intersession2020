{
 "cells": [
  {
   "cell_type": "markdown",
   "metadata": {},
   "source": [
    "## Warmup Exercises"
   ]
  },
  {
   "cell_type": "code",
   "execution_count": 4,
   "metadata": {},
   "outputs": [
    {
     "name": "stdout",
     "output_type": "stream",
     "text": [
      "*\n",
      "*\n",
      "*\n",
      "*\n",
      "*\n",
      "*\n",
      "*\n",
      "*\n",
      "*\n",
      "*\n"
     ]
    }
   ],
   "source": [
    "i = 0\n",
    "\n",
    "while(i <10):\n",
    "    print(\"*\")\n",
    "    i = i + 1"
   ]
  },
  {
   "cell_type": "code",
   "execution_count": 5,
   "metadata": {},
   "outputs": [
    {
     "name": "stdout",
     "output_type": "stream",
     "text": [
      "**********"
     ]
    }
   ],
   "source": [
    "# New print parameter end\n",
    "i = 0\n",
    "\n",
    "while(i <10):\n",
    "    print(\"*\",end=\"\")\n",
    "    i = i + 1"
   ]
  },
  {
   "cell_type": "markdown",
   "metadata": {},
   "source": [
    "### Print solid block"
   ]
  },
  {
   "cell_type": "code",
   "execution_count": 13,
   "metadata": {},
   "outputs": [
    {
     "name": "stdout",
     "output_type": "stream",
     "text": [
      "**********\n",
      "**********\n",
      "**********\n",
      "**********\n",
      "**********\n",
      "**********\n",
      "**********\n",
      "**********\n",
      "**********\n",
      "**********\n"
     ]
    }
   ],
   "source": [
    "i = 0\n",
    "\n",
    "while(i<10):\n",
    "    j = 0\n",
    "    while(j<10):\n",
    "        print(\"*\",end=\"\")\n",
    "        j += 1\n",
    "    print()\n",
    "    i += 1"
   ]
  },
  {
   "cell_type": "markdown",
   "metadata": {},
   "source": [
    "### Print Triangle"
   ]
  },
  {
   "cell_type": "code",
   "execution_count": 14,
   "metadata": {},
   "outputs": [
    {
     "name": "stdout",
     "output_type": "stream",
     "text": [
      "\n",
      "*\n",
      "**\n",
      "***\n",
      "****\n",
      "*****\n",
      "******\n",
      "*******\n",
      "********\n",
      "*********\n"
     ]
    }
   ],
   "source": [
    "i = 0\n",
    "\n",
    "while(i<10):\n",
    "    j = 0\n",
    "    while(j<i):\n",
    "        print(\"*\",end=\"\")\n",
    "        j += 1\n",
    "    print()\n",
    "    i += 1"
   ]
  },
  {
   "cell_type": "code",
   "execution_count": 15,
   "metadata": {},
   "outputs": [
    {
     "name": "stdout",
     "output_type": "stream",
     "text": [
      "\n",
      "*\n",
      "**\n",
      "***\n",
      "****\n",
      "*****\n",
      "****\n",
      "***\n",
      "**\n",
      "*\n",
      "\n"
     ]
    }
   ],
   "source": [
    "i = 0\n",
    "\n",
    "while(i<10/2):\n",
    "    j = 0\n",
    "    while(j<i):\n",
    "        print(\"*\",end=\"\")\n",
    "        j += 1\n",
    "    print()\n",
    "    i += 1\n",
    "    \n",
    "while(i>=0):\n",
    "    j = 0\n",
    "    while(j<i):\n",
    "        print(\"*\",end=\"\")\n",
    "        j += 1\n",
    "    print()\n",
    "    i -= 1"
   ]
  },
  {
   "cell_type": "code",
   "execution_count": 18,
   "metadata": {},
   "outputs": [
    {
     "name": "stdout",
     "output_type": "stream",
     "text": [
      "\n",
      "\n",
      "1\n",
      "22\n",
      "333\n",
      "4444\n",
      "55555\n",
      "4444\n",
      "333\n",
      "22\n",
      "1\n",
      "\n"
     ]
    }
   ],
   "source": [
    "while(i<10/2):\n",
    "    j = 0\n",
    "    while(j<i):\n",
    "        print(i,end=\"\")\n",
    "        j += 1\n",
    "    print()\n",
    "    i += 1\n",
    "    \n",
    "while(i>=0):\n",
    "    j = 0\n",
    "    while(j<i):\n",
    "        print(i,end=\"\")\n",
    "        j += 1\n",
    "    print()\n",
    "    i -= 1"
   ]
  },
  {
   "cell_type": "code",
   "execution_count": 19,
   "metadata": {},
   "outputs": [
    {
     "name": "stdout",
     "output_type": "stream",
     "text": [
      "\n",
      "\n",
      "1 \n",
      "2 2 \n",
      "3 3 3 \n",
      "4 4 4 4 \n",
      "5 5 5 5 5 \n",
      "4 4 4 4 \n",
      "3 3 3 \n",
      "2 2 \n",
      "1 \n",
      "\n"
     ]
    }
   ],
   "source": [
    "while(i<10/2):\n",
    "    j = 0\n",
    "    while(j<i):\n",
    "        print(i,end=\" \")\n",
    "        j += 1\n",
    "    print()\n",
    "    i += 1\n",
    "    \n",
    "while(i>=0):\n",
    "    j = 0\n",
    "    while(j<i):\n",
    "        print(i,end=\" \")\n",
    "        j += 1\n",
    "    print()\n",
    "    i -= 1"
   ]
  },
  {
   "cell_type": "markdown",
   "metadata": {},
   "source": [
    "### Number guessing game"
   ]
  },
  {
   "cell_type": "code",
   "execution_count": 24,
   "metadata": {},
   "outputs": [
    {
     "name": "stdout",
     "output_type": "stream",
     "text": [
      "Guess number: 42\n",
      "Got it!\n"
     ]
    }
   ],
   "source": [
    "x = int(input(\"Guess number: \"))\n",
    "\n",
    "the_number = 42\n",
    "\n",
    "if x == the_number:\n",
    "    print(\"Got it!\")\n",
    "else:\n",
    "    if x > the_number:\n",
    "        print(\"Lower!\")\n",
    "    else:\n",
    "        print(\"Higher!\")"
   ]
  },
  {
   "cell_type": "code",
   "execution_count": 29,
   "metadata": {},
   "outputs": [
    {
     "name": "stdout",
     "output_type": "stream",
     "text": [
      "Guess number: 42\n",
      "Got it!\n"
     ]
    }
   ],
   "source": [
    "the_number = 42\n",
    "\n",
    "x = int(input(\"Guess number: \"))\n",
    "\n",
    "if x == the_number:\n",
    "    print(\"Got it!\")\n",
    "else:\n",
    "    if x > the_number:\n",
    "        print(\"Lower!\")\n",
    "    else:\n",
    "        print(\"Higher!\")"
   ]
  },
  {
   "cell_type": "code",
   "execution_count": 37,
   "metadata": {},
   "outputs": [
    {
     "name": "stdout",
     "output_type": "stream",
     "text": [
      "Guess number: -1\n",
      "End of program.\n"
     ]
    }
   ],
   "source": [
    "# Add a loop\n",
    "\n",
    "the_number = 42\n",
    "\n",
    "while(True):\n",
    "    x = int(input(\"Guess number: \"))\n",
    "    \n",
    "    if x==-1:\n",
    "        break\n",
    "    \n",
    "    if x == the_number:\n",
    "        print(\"Got it!\")\n",
    "        # introduce break statement\n",
    "        break\n",
    "    else:\n",
    "        if x > the_number:\n",
    "            print(\"Lower!\")\n",
    "        else:\n",
    "            print(\"Higher!\")\n",
    "\n",
    "print(\"End of program.\")"
   ]
  },
  {
   "cell_type": "code",
   "execution_count": 39,
   "metadata": {},
   "outputs": [
    {
     "name": "stdout",
     "output_type": "stream",
     "text": [
      "Guess number: 0\n",
      "Higher!\n",
      "Guess number: -1\n",
      "End of program.\n"
     ]
    }
   ],
   "source": [
    "# Add a loop\n",
    "\n",
    "the_number = 42\n",
    "\n",
    "x = 0\n",
    "while(x != -1):\n",
    "    x = int(input(\"Guess number: \"))\n",
    "    \n",
    "    if x==-1:\n",
    "        break\n",
    "    \n",
    "    if x == the_number:\n",
    "        print(\"Got it!\")\n",
    "        # introduce break statement\n",
    "        break\n",
    "    else:\n",
    "        if x > the_number:\n",
    "            print(\"Lower!\")\n",
    "        else:\n",
    "            print(\"Higher!\")\n",
    "\n",
    "print(\"End of program.\")"
   ]
  },
  {
   "cell_type": "markdown",
   "metadata": {},
   "source": [
    "### Questions\n",
    "\n",
    "How do you reduce the number of lines of code here without sacrificing readability?  \n",
    "How do we minimize the dependence on break?  "
   ]
  },
  {
   "cell_type": "code",
   "execution_count": 41,
   "metadata": {},
   "outputs": [
    {
     "name": "stdout",
     "output_type": "stream",
     "text": [
      "Guess number: 43\n",
      "Lower!\n",
      "Guess number: 42\n",
      "Got it!\n",
      "End of program.\n",
      "Number of guesses:  2\n"
     ]
    }
   ],
   "source": [
    "# Count the number of guesses\n",
    "\n",
    "the_number = 42\n",
    "\n",
    "guesses = 0\n",
    "\n",
    "while(True):\n",
    "    guesses += 1\n",
    "    \n",
    "    x = int(input(\"Guess number: \"))\n",
    "    \n",
    "    if x==-1:\n",
    "        break\n",
    "    \n",
    "    if x == the_number:\n",
    "        print(\"Got it!\")\n",
    "        # introduce break statement\n",
    "        break\n",
    "    else:\n",
    "        if x > the_number:\n",
    "            print(\"Lower!\")\n",
    "        else:\n",
    "            print(\"Higher!\")\n",
    "\n",
    "print(\"End of program.\")\n",
    "print(\"Number of guesses: \", guesses)"
   ]
  },
  {
   "cell_type": "code",
   "execution_count": 47,
   "metadata": {},
   "outputs": [
    {
     "name": "stdout",
     "output_type": "stream",
     "text": [
      "Guess number: 45\n",
      "Lower!\n",
      "Guess number: 40\n",
      "Higher!\n",
      "Guess number: 42\n",
      "Got it!\n",
      "End of program.\n",
      "Number of guesses:  3\n"
     ]
    }
   ],
   "source": [
    "the_number = 42\n",
    "\n",
    "guesses = 1\n",
    "\n",
    "while(True):\n",
    "    \n",
    "    x = int(input(\"Guess number: \"))\n",
    "    \n",
    "    if x==-1:\n",
    "        break\n",
    "    \n",
    "    if x == the_number:\n",
    "        print(\"Got it!\")\n",
    "        # introduce break statement\n",
    "        break\n",
    "    else:\n",
    "        if x > the_number:\n",
    "            print(\"Lower!\")\n",
    "        else:\n",
    "            print(\"Higher!\")\n",
    "    guesses += 1\n",
    "\n",
    "print(\"End of program.\")\n",
    "print(\"Number of guesses: \", guesses)"
   ]
  },
  {
   "cell_type": "code",
   "execution_count": 50,
   "metadata": {},
   "outputs": [
    {
     "name": "stdout",
     "output_type": "stream",
     "text": [
      "Guess number: x\n",
      "Error in input format.\n",
      "Guess number: x\n",
      "Error in input format.\n",
      "Guess number: 23\n",
      "Higher!\n",
      "Guess number: y\n",
      "Error in input format.\n",
      "Guess number: 42\n",
      "Got it!\n",
      "End of program.\n",
      "Number of guesses:  2\n"
     ]
    }
   ],
   "source": [
    "the_number = 42\n",
    "\n",
    "guesses = 1\n",
    "\n",
    "while(True):\n",
    "    \n",
    "    try:\n",
    "        x = int(input(\"Guess number: \"))\n",
    "    except:\n",
    "        print(\"Error in input format.\")\n",
    "        continue\n",
    "    \n",
    "    if x==-1:\n",
    "        break\n",
    "    \n",
    "    if x == the_number:\n",
    "        print(\"Got it!\")\n",
    "        # introduce break statement\n",
    "        break\n",
    "    else:\n",
    "        if x > the_number:\n",
    "            print(\"Lower!\")\n",
    "        else:\n",
    "            print(\"Higher!\")\n",
    "    guesses += 1\n",
    "\n",
    "print(\"End of program.\")\n",
    "print(\"Number of guesses: \", guesses)"
   ]
  },
  {
   "cell_type": "markdown",
   "metadata": {},
   "source": [
    "### Strings\n",
    "\n",
    "* A string is a **sequence of characters**\n",
    "* Can be enclosed in single quotes or double quotes\n"
   ]
  },
  {
   "cell_type": "code",
   "execution_count": null,
   "metadata": {},
   "outputs": [],
   "source": []
  },
  {
   "cell_type": "markdown",
   "metadata": {},
   "source": [
    "The backslash (\"\\\") can be used to escape quotes and special characters."
   ]
  },
  {
   "cell_type": "markdown",
   "metadata": {},
   "source": [
    "### Lists"
   ]
  },
  {
   "cell_type": "code",
   "execution_count": 53,
   "metadata": {},
   "outputs": [
    {
     "name": "stdout",
     "output_type": "stream",
     "text": [
      "True\n",
      "True\n",
      "False\n"
     ]
    }
   ],
   "source": [
    "# demo: in\n",
    "\n",
    "globe = ['0917','0927']\n",
    "smart = ['0918','0928']\n",
    "\n",
    "print('0917' in globe)\n",
    "print('0918' in smart)\n",
    "print('0918' in globe)"
   ]
  },
  {
   "cell_type": "code",
   "execution_count": 58,
   "metadata": {},
   "outputs": [
    {
     "name": "stdout",
     "output_type": "stream",
     "text": [
      "americano\n",
      "brewed coffee\n",
      "cappuccino\n",
      "dalgona\n",
      "espresso\n"
     ]
    }
   ],
   "source": [
    "# demo: while\n",
    "\n",
    "products = [\"americano\",\"brewed coffee\",\"cappuccino\",\"dalgona\",\"espresso\"]\n",
    "\n",
    "i = 0\n",
    "while(i<len(products)):\n",
    "    print(products[i])\n",
    "    i += 1"
   ]
  },
  {
   "cell_type": "code",
   "execution_count": 59,
   "metadata": {},
   "outputs": [
    {
     "name": "stdout",
     "output_type": "stream",
     "text": [
      "americano\n",
      "brewed coffee\n",
      "cappuccino\n",
      "dalgona\n",
      "espresso\n"
     ]
    }
   ],
   "source": [
    "# for\n",
    "for p in products:\n",
    "    print(p)"
   ]
  },
  {
   "cell_type": "code",
   "execution_count": 66,
   "metadata": {},
   "outputs": [
    {
     "name": "stdout",
     "output_type": "stream",
     "text": [
      "range(0, 10)\n",
      "range(0, 5)\n",
      "range(3, 5)\n",
      "[0, 1, 2, 3, 4]\n",
      "americano\n",
      "brewed coffee\n",
      "cappuccino\n",
      "dalgona\n",
      "espresso\n"
     ]
    }
   ],
   "source": [
    "# demo: range\n",
    "\n",
    "print(range(10))\n",
    "\n",
    "print(range(len(products)))\n",
    "\n",
    "print(range(3,len(products)))\n",
    "\n",
    "print(list(range(len(products))))\n"
   ]
  },
  {
   "cell_type": "code",
   "execution_count": 67,
   "metadata": {},
   "outputs": [
    {
     "name": "stdout",
     "output_type": "stream",
     "text": [
      "americano\n",
      "brewed coffee\n",
      "cappuccino\n",
      "dalgona\n",
      "espresso\n"
     ]
    }
   ],
   "source": [
    "# demo: for with range\n",
    "\n",
    "for i in range(len(products)):\n",
    "    print(products[i])"
   ]
  },
  {
   "cell_type": "code",
   "execution_count": 74,
   "metadata": {},
   "outputs": [
    {
     "name": "stdout",
     "output_type": "stream",
     "text": [
      "[0, 1, 2, 3, 4, 5, 6, 7, 8, 9]\n"
     ]
    },
    {
     "data": {
      "text/plain": [
       "list"
      ]
     },
     "execution_count": 74,
     "metadata": {},
     "output_type": "execute_result"
    }
   ],
   "source": [
    "# demo: list comprehensions\n",
    "\n",
    "mylist=[i for i in range(0,10)]\n",
    "print(mylist)\n",
    "type(mylist)"
   ]
  },
  {
   "cell_type": "code",
   "execution_count": null,
   "metadata": {},
   "outputs": [],
   "source": []
  },
  {
   "cell_type": "code",
   "execution_count": 84,
   "metadata": {},
   "outputs": [
    {
     "data": {
      "text/plain": [
       "True"
      ]
     },
     "execution_count": 84,
     "metadata": {},
     "output_type": "execute_result"
    }
   ],
   "source": [
    "15==15==15"
   ]
  },
  {
   "cell_type": "code",
   "execution_count": 85,
   "metadata": {},
   "outputs": [
    {
     "name": "stdout",
     "output_type": "stream",
     "text": [
      "t h e   q u i c k   b r o w n   f o x   j u m p s   o v e r   t h e   l a z y   d o g s \n",
      "the quick brown fox jumps over the lazy dogs \n"
     ]
    }
   ],
   "source": [
    "# for: revisited\n",
    "\n",
    "sentence = \"the quick brown fox jumps over the lazy dogs\"\n",
    "\n",
    "for char in sentence:\n",
    "    print(char, end=\" \")\n",
    "    \n",
    "print()\n",
    "    \n",
    "# demo: traverse words in a sentence\n",
    "\n",
    "for word in sentence.split():\n",
    "    print(word, end = \" \")\n",
    "    \n",
    "print()\n"
   ]
  },
  {
   "cell_type": "code",
   "execution_count": null,
   "metadata": {},
   "outputs": [],
   "source": [
    "# list initialization\n",
    "\n"
   ]
  },
  {
   "cell_type": "code",
   "execution_count": 86,
   "metadata": {},
   "outputs": [],
   "source": [
    "# demo: append\n",
    "\n",
    "products.append(\"latte\")"
   ]
  },
  {
   "cell_type": "code",
   "execution_count": 87,
   "metadata": {},
   "outputs": [
    {
     "data": {
      "text/plain": [
       "['americano', 'brewed coffee', 'cappuccino', 'dalgona', 'espresso', 'latte']"
      ]
     },
     "execution_count": 87,
     "metadata": {},
     "output_type": "execute_result"
    }
   ],
   "source": [
    "products"
   ]
  },
  {
   "cell_type": "code",
   "execution_count": 88,
   "metadata": {},
   "outputs": [
    {
     "data": {
      "text/plain": [
       "'latte'"
      ]
     },
     "execution_count": 88,
     "metadata": {},
     "output_type": "execute_result"
    }
   ],
   "source": [
    "products.pop()"
   ]
  },
  {
   "cell_type": "code",
   "execution_count": 89,
   "metadata": {},
   "outputs": [
    {
     "data": {
      "text/plain": [
       "['americano', 'brewed coffee', 'cappuccino', 'dalgona', 'espresso']"
      ]
     },
     "execution_count": 89,
     "metadata": {},
     "output_type": "execute_result"
    }
   ],
   "source": [
    "products"
   ]
  },
  {
   "cell_type": "code",
   "execution_count": 314,
   "metadata": {},
   "outputs": [
    {
     "data": {
      "text/plain": [
       "('0917', '0927')"
      ]
     },
     "execution_count": 314,
     "metadata": {},
     "output_type": "execute_result"
    }
   ],
   "source": [
    "# demo: lists vs tuples\n",
    "\n"
   ]
  },
  {
   "cell_type": "code",
   "execution_count": 271,
   "metadata": {},
   "outputs": [],
   "source": [
    "matrix = [[2,7,6],\n",
    "          [9,5,1],\n",
    "          [4,3,8]\n",
    "         ]"
   ]
  },
  {
   "cell_type": "code",
   "execution_count": 272,
   "metadata": {},
   "outputs": [
    {
     "name": "stdout",
     "output_type": "stream",
     "text": [
      "5\n",
      "3\n",
      "[4, 5, 6]\n",
      "15\n"
     ]
    }
   ],
   "source": [
    "# demo: multi-dimensional lists (arrays)\n",
    "\n",
    "print(matrix[1][1])\n",
    "\n",
    "print(matrix[2][1])\n",
    "\n",
    "# traverse lower-left to upper-right:\n",
    "print([matrix[2-i][i] for i in range(0,3)])\n",
    "print(sum([matrix[2-i][i] for i in range(0,3)]))\n"
   ]
  },
  {
   "cell_type": "code",
   "execution_count": null,
   "metadata": {},
   "outputs": [],
   "source": [
    "# demo: all()\n",
    "\n",
    "print(all([0,1,1]))\n",
    "\n",
    "# demo: booleans\n",
    "print(all([True,True]))\n",
    "print(all([True,False]))\n",
    "\n",
    "# demo: list comprehension\n",
    "tmplist = [\"A\",\"A\",\"A\"]\n",
    "all([a==\"A\" for a in tmplist])"
   ]
  },
  {
   "cell_type": "code",
   "execution_count": 273,
   "metadata": {},
   "outputs": [],
   "source": [
    "# demo: sum()\n",
    "\n"
   ]
  },
  {
   "cell_type": "code",
   "execution_count": 293,
   "metadata": {},
   "outputs": [
    {
     "name": "stdout",
     "output_type": "stream",
     "text": [
      "<map object at 0x7fa3a3c64d50>\n",
      "Pass\n",
      "Pass\n",
      "Pass\n",
      "Fail\n",
      "Fail\n",
      "------\n",
      "Pass\n",
      "Pass\n",
      "Pass\n",
      "Fail\n",
      "Fail\n"
     ]
    }
   ],
   "source": [
    "def pass_or_fail(grade):\n",
    "    if grade >= 60:\n",
    "        return \"Pass\"\n",
    "    else:\n",
    "        return \"Fail\"\n",
    "    \n",
    "grades = [90,94,99,59,58]\n",
    "\n",
    "print(map(pass_or_fail,grades))\n",
    "\n",
    "for standing in map(pass_or_fail,grades):\n",
    "    print(standing)\n",
    "    \n",
    "print(\"------\")\n",
    "\n",
    "gradesmap = map(pass_or_fail,grades)\n",
    "\n",
    "for standing in gradesmap:\n",
    "    print(standing)"
   ]
  },
  {
   "cell_type": "code",
   "execution_count": 274,
   "metadata": {},
   "outputs": [
    {
     "name": "stdout",
     "output_type": "stream",
     "text": [
      "[('cappuccino', 110), ('americano', 140)]\n",
      "(2, 9, 4)\n"
     ]
    }
   ],
   "source": [
    "# demo: basic zip()\n",
    "newproducts = [\"cappuccino\",\"americano\"]\n",
    "newprices = [110,140]\n",
    "\n",
    "print(list(zip(newproducts,newprices)))\n",
    "\n",
    "# demo: zip() using our matrix\n",
    "print(list(zip(matrix[0],matrix[1],matrix[2]))[0])\n"
   ]
  },
  {
   "cell_type": "code",
   "execution_count": 275,
   "metadata": {},
   "outputs": [],
   "source": [
    "# demo: sum()\n",
    "\n"
   ]
  },
  {
   "cell_type": "code",
   "execution_count": 276,
   "metadata": {},
   "outputs": [],
   "source": [
    "# demo: map()\n",
    "\n"
   ]
  },
  {
   "cell_type": "markdown",
   "metadata": {},
   "source": [
    "#### General approach:\n",
    "\n",
    "Get the sum of all horizontals, all verticals, and both diagonals.\n",
    "\n",
    "To determine if all are equal:\n",
    "\n",
    "Approach 1: Compare all variables:"
   ]
  },
  {
   "cell_type": "code",
   "execution_count": 277,
   "metadata": {},
   "outputs": [
    {
     "data": {
      "text/plain": [
       "True"
      ]
     },
     "execution_count": 277,
     "metadata": {},
     "output_type": "execute_result"
    }
   ],
   "source": [
    "# Approach 1:\n",
    "\n",
    "15 == 15 == 15 == 15 == 15"
   ]
  },
  {
   "cell_type": "code",
   "execution_count": 278,
   "metadata": {},
   "outputs": [
    {
     "name": "stdout",
     "output_type": "stream",
     "text": [
      "{15}\n",
      "{15}\n",
      "1\n",
      "Magic Square\n"
     ]
    }
   ],
   "source": [
    "#  Approach 2:\n",
    "# Add to a set sumset:\n",
    "    \n",
    "sumset = set()\n",
    "sumset.add(15)\n",
    "print(sumset)\n",
    "sumset.add(15)\n",
    "print(sumset)\n",
    "print(len(sumset))\n",
    "\n",
    "if len(sumset) == 1:\n",
    "    print(\"Magic Square\")"
   ]
  },
  {
   "cell_type": "code",
   "execution_count": 279,
   "metadata": {},
   "outputs": [
    {
     "data": {
      "text/plain": [
       "[[2, 7, 6], [9, 5, 1], [4, 3, 8]]"
      ]
     },
     "execution_count": 279,
     "metadata": {},
     "output_type": "execute_result"
    }
   ],
   "source": [
    "matrix"
   ]
  },
  {
   "cell_type": "code",
   "execution_count": 280,
   "metadata": {},
   "outputs": [
    {
     "data": {
      "text/plain": [
       "[[2, 7, 6], [9, 5, 1], [4, 3, 8]]"
      ]
     },
     "execution_count": 280,
     "metadata": {},
     "output_type": "execute_result"
    }
   ],
   "source": [
    "[x for x in matrix]"
   ]
  },
  {
   "cell_type": "code",
   "execution_count": 281,
   "metadata": {},
   "outputs": [
    {
     "data": {
      "text/plain": [
       "[15, 15, 15]"
      ]
     },
     "execution_count": 281,
     "metadata": {},
     "output_type": "execute_result"
    }
   ],
   "source": [
    "# Horizontal Sums\n",
    "[sum(x) for x in matrix]"
   ]
  },
  {
   "cell_type": "code",
   "execution_count": 282,
   "metadata": {},
   "outputs": [
    {
     "data": {
      "text/plain": [
       "[[2, 9, 4], [7, 5, 3], [6, 1, 8]]"
      ]
     },
     "execution_count": 282,
     "metadata": {},
     "output_type": "execute_result"
    }
   ],
   "source": [
    "# Vertical Sums\n",
    "[[row[i] for row in matrix] for i in range(len(matrix[0]))]"
   ]
  },
  {
   "cell_type": "code",
   "execution_count": 283,
   "metadata": {},
   "outputs": [
    {
     "name": "stdout",
     "output_type": "stream",
     "text": [
      "[(1, 3, 5), (2, 4, 6)]\n",
      "[([1, 2],), ([3, 4],), ([5, 6],)]\n",
      "[(1, 3, 5), (2, 4, 6)]\n"
     ]
    }
   ],
   "source": [
    "print(list(zip([1,2],[3,4],[5,6])))\n",
    "print(list(zip([[1,2],[3,4],[5,6]])))\n",
    "print(list(zip(*[[1,2],[3,4],[5,6]])))"
   ]
  },
  {
   "cell_type": "code",
   "execution_count": 284,
   "metadata": {},
   "outputs": [
    {
     "data": {
      "text/plain": [
       "['a', 'b', 'c']"
      ]
     },
     "execution_count": 284,
     "metadata": {},
     "output_type": "execute_result"
    }
   ],
   "source": [
    "['a','b','c']"
   ]
  },
  {
   "cell_type": "code",
   "execution_count": null,
   "metadata": {},
   "outputs": [],
   "source": []
  },
  {
   "cell_type": "code",
   "execution_count": 285,
   "metadata": {},
   "outputs": [
    {
     "data": {
      "text/plain": [
       "[(2, 9, 4), (7, 5, 3), (6, 1, 8)]"
      ]
     },
     "execution_count": 285,
     "metadata": {},
     "output_type": "execute_result"
    }
   ],
   "source": [
    "[i for i in zip(*matrix)]"
   ]
  },
  {
   "cell_type": "code",
   "execution_count": 286,
   "metadata": {},
   "outputs": [
    {
     "data": {
      "text/plain": [
       "[15, 15, 15]"
      ]
     },
     "execution_count": 286,
     "metadata": {},
     "output_type": "execute_result"
    }
   ],
   "source": [
    "[sum(i) for i in zip(*matrix)]"
   ]
  },
  {
   "cell_type": "code",
   "execution_count": 287,
   "metadata": {},
   "outputs": [
    {
     "data": {
      "text/plain": [
       "True"
      ]
     },
     "execution_count": 287,
     "metadata": {},
     "output_type": "execute_result"
    }
   ],
   "source": [
    "all([sum(i)==15 for i in zip(*matrix)])"
   ]
  },
  {
   "cell_type": "code",
   "execution_count": null,
   "metadata": {},
   "outputs": [],
   "source": []
  },
  {
   "cell_type": "code",
   "execution_count": 288,
   "metadata": {},
   "outputs": [
    {
     "name": "stdout",
     "output_type": "stream",
     "text": [
      "{15}\n"
     ]
    }
   ],
   "source": [
    "# horizontals\n",
    "for i in [sum(x) for x in matrix]:\n",
    "    sumset.add(i)\n",
    "\n",
    "# verticals\n",
    "for i in [sum(i) for i in zip(*matrix)]:\n",
    "    sumset.add(i)\n",
    "    \n",
    "print(sumset)"
   ]
  },
  {
   "cell_type": "code",
   "execution_count": 289,
   "metadata": {},
   "outputs": [
    {
     "data": {
      "text/plain": [
       "[2, 5, 8]"
      ]
     },
     "execution_count": 289,
     "metadata": {},
     "output_type": "execute_result"
    }
   ],
   "source": [
    "[matrix[i][i] for i,v in enumerate(matrix)]"
   ]
  },
  {
   "cell_type": "code",
   "execution_count": 290,
   "metadata": {},
   "outputs": [
    {
     "data": {
      "text/plain": [
       "15"
      ]
     },
     "execution_count": 290,
     "metadata": {},
     "output_type": "execute_result"
    }
   ],
   "source": [
    "# Diagonal up-down\n",
    "\n",
    "sum([matrix[i][i] for i,v in enumerate(matrix)])\n"
   ]
  },
  {
   "cell_type": "code",
   "execution_count": 291,
   "metadata": {},
   "outputs": [
    {
     "data": {
      "text/plain": [
       "[4, 5, 6]"
      ]
     },
     "execution_count": 291,
     "metadata": {},
     "output_type": "execute_result"
    }
   ],
   "source": [
    "[matrix[len(matrix)-1-i][i] for i,v in enumerate(matrix)]"
   ]
  },
  {
   "cell_type": "code",
   "execution_count": 292,
   "metadata": {},
   "outputs": [
    {
     "data": {
      "text/plain": [
       "15"
      ]
     },
     "execution_count": 292,
     "metadata": {},
     "output_type": "execute_result"
    }
   ],
   "source": [
    "# Diagonal down-up\n",
    "\n",
    "sum([matrix[len(matrix)-1-i][i] for i,v in enumerate(matrix)])"
   ]
  },
  {
   "cell_type": "code",
   "execution_count": 192,
   "metadata": {},
   "outputs": [
    {
     "data": {
      "text/plain": [
       "{15}"
      ]
     },
     "execution_count": 192,
     "metadata": {},
     "output_type": "execute_result"
    }
   ],
   "source": [
    "sumset"
   ]
  },
  {
   "cell_type": "markdown",
   "metadata": {},
   "source": [
    "### String Formatting"
   ]
  },
  {
   "cell_type": "code",
   "execution_count": 294,
   "metadata": {},
   "outputs": [
    {
     "name": "stdout",
     "output_type": "stream",
     "text": [
      "ABCDEFGHIJKLMNOPQRSTUVWXYZ\n",
      "65,66,67,68,69,70,71,72,73,74,75,76,77,78,79,80,81,82,83,84,85,86,87,88,89,90,\n",
      "abcdefghijklmnopqrstuvwxyz\n",
      "97,98,99,100,101,102,103,104,105,106,107,108,109,110,111,112,113,114,115,116,117,118,119,120,121,122,\n",
      "\n",
      "\n",
      "Upper Case:\n",
      "ABCDEFGHIJKLMNOPQRSTUVWXYZ\n",
      "Lower Case:\n",
      "abcdefghijklmnopqrstuvwxyz"
     ]
    }
   ],
   "source": [
    "#demo: ord(char)\n",
    "\n",
    "uppercase_alphabet = \"ABCDEFGHIJKLMNOPQRSTUVWXYZ\"\n",
    "\n",
    "print(uppercase_alphabet)\n",
    "for i in uppercase_alphabet:\n",
    "    print(ord(i),end=\",\")\n",
    "\n",
    "print()\n",
    "lowercase_alphabet = uppercase_alphabet.lower()\n",
    "print(lowercase_alphabet)\n",
    "for i in lowercase_alphabet:\n",
    "    print(ord(i),end=\",\")\n",
    "    \n",
    "print(\"\\n\\n\")\n",
    "\n",
    "#demo: chr(int)\n",
    "\n",
    "print(\"Upper Case:\")\n",
    "for i in range(65,65+26):\n",
    "    print(chr(i),end=\"\")\n",
    "\n",
    "print()\n",
    "print(\"Lower Case:\")\n",
    "for i in range(97,97+26):\n",
    "    print(chr(i),end=\"\")\n",
    "    "
   ]
  },
  {
   "cell_type": "code",
   "execution_count": 295,
   "metadata": {},
   "outputs": [
    {
     "data": {
      "text/plain": [
       "'5'"
      ]
     },
     "execution_count": 295,
     "metadata": {},
     "output_type": "execute_result"
    }
   ],
   "source": [
    "# demo: str()\n",
    "\n",
    "str(5)"
   ]
  },
  {
   "cell_type": "code",
   "execution_count": 296,
   "metadata": {},
   "outputs": [
    {
     "data": {
      "text/plain": [
       "'1 2 3'"
      ]
     },
     "execution_count": 296,
     "metadata": {},
     "output_type": "execute_result"
    }
   ],
   "source": [
    "\"{} {} {}\".format(1,2,3)"
   ]
  },
  {
   "cell_type": "code",
   "execution_count": 297,
   "metadata": {},
   "outputs": [
    {
     "data": {
      "text/plain": [
       "'a-b'"
      ]
     },
     "execution_count": 297,
     "metadata": {},
     "output_type": "execute_result"
    }
   ],
   "source": [
    "\"{}-{}\".format(\"a\",\"b\")"
   ]
  },
  {
   "cell_type": "code",
   "execution_count": 298,
   "metadata": {},
   "outputs": [
    {
     "data": {
      "text/plain": [
       "'first second'"
      ]
     },
     "execution_count": 298,
     "metadata": {},
     "output_type": "execute_result"
    }
   ],
   "source": [
    "\"{} {}\".format(\"first\", \"second\")"
   ]
  },
  {
   "cell_type": "code",
   "execution_count": 299,
   "metadata": {},
   "outputs": [
    {
     "data": {
      "text/plain": [
       "'zero one'"
      ]
     },
     "execution_count": 299,
     "metadata": {},
     "output_type": "execute_result"
    }
   ],
   "source": [
    "\"{0} {1}\".format(\"zero\",\"one\")"
   ]
  },
  {
   "cell_type": "code",
   "execution_count": 300,
   "metadata": {},
   "outputs": [
    {
     "data": {
      "text/plain": [
       "'one zero'"
      ]
     },
     "execution_count": 300,
     "metadata": {},
     "output_type": "execute_result"
    }
   ],
   "source": [
    "\"{1} {0}\".format(\"zero\",\"one\")"
   ]
  },
  {
   "cell_type": "code",
   "execution_count": 301,
   "metadata": {},
   "outputs": [
    {
     "data": {
      "text/plain": [
       "'a b'"
      ]
     },
     "execution_count": 301,
     "metadata": {},
     "output_type": "execute_result"
    }
   ],
   "source": [
    "\"{x} {y}\".format(x=\"a\", y=\"b\")"
   ]
  },
  {
   "cell_type": "code",
   "execution_count": 302,
   "metadata": {},
   "outputs": [
    {
     "data": {
      "text/plain": [
       "'b a'"
      ]
     },
     "execution_count": 302,
     "metadata": {},
     "output_type": "execute_result"
    }
   ],
   "source": [
    "\"{y} {x}\".format(x=\"a\", y=\"b\")"
   ]
  },
  {
   "cell_type": "code",
   "execution_count": 303,
   "metadata": {},
   "outputs": [
    {
     "data": {
      "text/plain": [
       "'brewedcoffee          Brewed Coffee       120.0'"
      ]
     },
     "execution_count": 303,
     "metadata": {},
     "output_type": "execute_result"
    }
   ],
   "source": [
    "\"{code}          {name}       {price}\".format(code=\"brewedcoffee\",name=\"Brewed Coffee\",price=120.00)\n"
   ]
  },
  {
   "cell_type": "code",
   "execution_count": 304,
   "metadata": {},
   "outputs": [
    {
     "data": {
      "text/plain": [
       "'Espresso       140.0'"
      ]
     },
     "execution_count": 304,
     "metadata": {},
     "output_type": "execute_result"
    }
   ],
   "source": [
    "\"{name}       {price}\".format(**{\"name\":\"Espresso\",\"price\":140.00})"
   ]
  },
  {
   "cell_type": "code",
   "execution_count": 305,
   "metadata": {},
   "outputs": [
    {
     "data": {
      "text/plain": [
       "'a b'"
      ]
     },
     "execution_count": 305,
     "metadata": {},
     "output_type": "execute_result"
    }
   ],
   "source": [
    "\"{mylist[0]} {mylist[1]}\".format(mylist=[\"a\",\"b\"])"
   ]
  },
  {
   "cell_type": "code",
   "execution_count": 306,
   "metadata": {},
   "outputs": [
    {
     "data": {
      "text/plain": [
       "'           10,000.50'"
      ]
     },
     "execution_count": 306,
     "metadata": {},
     "output_type": "execute_result"
    }
   ],
   "source": [
    "\"{:>20,.2f}\".format(10000.50)"
   ]
  },
  {
   "cell_type": "code",
   "execution_count": 307,
   "metadata": {},
   "outputs": [
    {
     "data": {
      "text/plain": [
       "20"
      ]
     },
     "execution_count": 307,
     "metadata": {},
     "output_type": "execute_result"
    }
   ],
   "source": [
    "len(\"{:>20,.2f}\".format(10000.50))"
   ]
  },
  {
   "cell_type": "code",
   "execution_count": 308,
   "metadata": {},
   "outputs": [
    {
     "data": {
      "text/plain": [
       "'left aligned                  '"
      ]
     },
     "execution_count": 308,
     "metadata": {},
     "output_type": "execute_result"
    }
   ],
   "source": [
    "'{:<30}'.format('left aligned')"
   ]
  },
  {
   "cell_type": "code",
   "execution_count": 309,
   "metadata": {},
   "outputs": [
    {
     "data": {
      "text/plain": [
       "30"
      ]
     },
     "execution_count": 309,
     "metadata": {},
     "output_type": "execute_result"
    }
   ],
   "source": [
    "len('{:<30}'.format('left aligned'))"
   ]
  },
  {
   "cell_type": "code",
   "execution_count": 310,
   "metadata": {},
   "outputs": [
    {
     "data": {
      "text/plain": [
       "'                 right aligned'"
      ]
     },
     "execution_count": 310,
     "metadata": {},
     "output_type": "execute_result"
    }
   ],
   "source": [
    "'{:>30}'.format('right aligned')"
   ]
  },
  {
   "cell_type": "code",
   "execution_count": 311,
   "metadata": {},
   "outputs": [
    {
     "data": {
      "text/plain": [
       "30"
      ]
     },
     "execution_count": 311,
     "metadata": {},
     "output_type": "execute_result"
    }
   ],
   "source": [
    "len('{:>30}'.format('right aligned'))"
   ]
  },
  {
   "cell_type": "code",
   "execution_count": null,
   "metadata": {},
   "outputs": [],
   "source": []
  }
 ],
 "metadata": {
  "kernelspec": {
   "display_name": "Python 3",
   "language": "python",
   "name": "python3"
  },
  "language_info": {
   "codemirror_mode": {
    "name": "ipython",
    "version": 3
   },
   "file_extension": ".py",
   "mimetype": "text/x-python",
   "name": "python",
   "nbconvert_exporter": "python",
   "pygments_lexer": "ipython3",
   "version": "3.7.4"
  }
 },
 "nbformat": 4,
 "nbformat_minor": 2
}
