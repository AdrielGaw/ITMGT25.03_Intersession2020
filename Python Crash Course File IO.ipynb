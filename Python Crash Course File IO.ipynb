{
 "cells": [
  {
   "cell_type": "markdown",
   "metadata": {},
   "source": [
    "### File Input/Output"
   ]
  },
  {
   "cell_type": "markdown",
   "metadata": {},
   "source": [
    "#### Review: Error and Exception Handling\n",
    "\n",
    "Note: Syntax Errors cannot be caught. Only Runtime errors.\n",
    "```\n",
    "try:\n",
    "    ...\n",
    "except IOError:\n",
    "    print('An error occured trying to read the file.')\n",
    "    \n",
    "except ValueError:\n",
    "    print('Non-numeric data found in the file.')\n",
    "\n",
    "except ImportError:\n",
    "    print \"NO module found\"\n",
    "    \n",
    "except EOFError:\n",
    "    print('Why did you do an EOF on me?')\n",
    "\n",
    "except KeyboardInterrupt:\n",
    "    print('You cancelled the operation.')\n",
    "\n",
    "except:\n",
    "    print('An error occured.')\n",
    "```"
   ]
  },
  {
   "cell_type": "code",
   "execution_count": null,
   "metadata": {},
   "outputs": [],
   "source": [
    "# demo\n",
    "\n",
    "\n",
    "## Value Error\n",
    "\n",
    "\n",
    "\n"
   ]
  },
  {
   "cell_type": "markdown",
   "metadata": {},
   "source": [
    "#### File Input/Output\n",
    "\n",
    "**Note:** We shall only be covering text files here.\n",
    "\n",
    "The argument mode points to a string beginning with one of the following\n",
    " sequences (Additional characters may follow these sequences.):\n",
    "\n",
    " \"r\"   Open text file for reading.  The stream is positioned at the\n",
    "       beginning of the file.\n",
    "\n",
    " \"r+\"  Open for reading and writing.  The stream is positioned at the\n",
    "       beginning of the file.\n",
    "\n",
    " \"w\"   Truncate file to zero length or create text file for writing.\n",
    "       The stream is positioned at the beginning of the file.\n",
    "\n",
    " \"w+\"  Open for reading and writing.  The file is created if it does not\n",
    "       exist, otherwise it is truncated.  The stream is positioned at\n",
    "       the beginning of the file.\n",
    "\n",
    " \"a\"   Open for **writing**.  The file is created if it does not exist.  The\n",
    "       stream is positioned at the end of the file.  Subsequent writes\n",
    "       to the file will always end up at the then current end of file,\n",
    "       irrespective of any intervening fseek(3) or similar.\n",
    "\n",
    " \"a+\"  Open for **reading and writing**.  The file is created if it does not\n",
    "       exist.  The stream is positioned at the end of the file.  Subse-\n",
    "       quent writes to the file will always end up at the then current\n",
    "       end of file, irrespective of any intervening fseek(3) or similar."
   ]
  },
  {
   "cell_type": "code",
   "execution_count": null,
   "metadata": {},
   "outputs": [],
   "source": [
    "# demo: read file\n",
    "\n",
    "\n"
   ]
  },
  {
   "cell_type": "code",
   "execution_count": null,
   "metadata": {},
   "outputs": [],
   "source": [
    "# demo: file open mode\n",
    "\n",
    "\n"
   ]
  },
  {
   "cell_type": "code",
   "execution_count": null,
   "metadata": {},
   "outputs": [],
   "source": [
    "# check if file is open or closed\n",
    "\n",
    "\n"
   ]
  },
  {
   "cell_type": "code",
   "execution_count": null,
   "metadata": {},
   "outputs": [],
   "source": [
    "\n",
    "\n"
   ]
  },
  {
   "cell_type": "code",
   "execution_count": null,
   "metadata": {},
   "outputs": [],
   "source": [
    "# check if file is open or closed\n",
    "\n",
    "\n",
    "\n"
   ]
  },
  {
   "cell_type": "code",
   "execution_count": null,
   "metadata": {},
   "outputs": [],
   "source": [
    "# demo: read file that does not exist\n",
    "\n",
    "\n",
    "\n",
    "\n"
   ]
  },
  {
   "cell_type": "code",
   "execution_count": null,
   "metadata": {},
   "outputs": [],
   "source": [
    "# demo: check whether file is open or closed\n",
    "\n",
    "\n",
    "\n",
    "\n"
   ]
  },
  {
   "cell_type": "code",
   "execution_count": null,
   "metadata": {},
   "outputs": [],
   "source": [
    "# catch errors via try ... except\n",
    "\n",
    "\n",
    "\n",
    "\n"
   ]
  },
  {
   "cell_type": "code",
   "execution_count": null,
   "metadata": {},
   "outputs": [],
   "source": [
    "# create new file:\n",
    "\n",
    "\n",
    "\n"
   ]
  },
  {
   "cell_type": "code",
   "execution_count": null,
   "metadata": {},
   "outputs": [],
   "source": [
    "# use 'with' syntactic sugar\n",
    "\n",
    "\n",
    "\n",
    "\n",
    "\n"
   ]
  },
  {
   "cell_type": "code",
   "execution_count": null,
   "metadata": {},
   "outputs": [],
   "source": [
    "# check status of file f\n",
    "\n",
    "\n",
    "\n",
    "\n"
   ]
  },
  {
   "cell_type": "code",
   "execution_count": null,
   "metadata": {},
   "outputs": [],
   "source": [
    "# try writing again using the same file\n",
    "\n",
    "\n",
    "\n",
    "\n"
   ]
  },
  {
   "cell_type": "code",
   "execution_count": null,
   "metadata": {},
   "outputs": [],
   "source": [
    "# check status of file f: why can't we see the new contents yet?\n",
    "\n",
    "\n",
    "\n",
    "\n"
   ]
  },
  {
   "cell_type": "code",
   "execution_count": null,
   "metadata": {},
   "outputs": [],
   "source": [
    "\n",
    "\n",
    "\n",
    "\n"
   ]
  },
  {
   "cell_type": "code",
   "execution_count": null,
   "metadata": {},
   "outputs": [],
   "source": [
    "\n",
    "\n",
    "\n",
    "\n"
   ]
  },
  {
   "cell_type": "code",
   "execution_count": null,
   "metadata": {},
   "outputs": [],
   "source": [
    "# observe: old contents were overridden\n",
    "\n",
    "# demo: try appending (using 'with' method)\n",
    "\n",
    "\n",
    "\n",
    "\n",
    "\n"
   ]
  },
  {
   "cell_type": "code",
   "execution_count": null,
   "metadata": {},
   "outputs": [],
   "source": [
    "# demo: try appending (using 'with' method)\n",
    "\n",
    "\n",
    "\n",
    "\n",
    "\n"
   ]
  },
  {
   "cell_type": "markdown",
   "metadata": {},
   "source": [
    "### Multiline Text Files"
   ]
  },
  {
   "cell_type": "code",
   "execution_count": null,
   "metadata": {},
   "outputs": [],
   "source": [
    "# introduce: multi-line strings (triple quotation marks)\n",
    "\n",
    "\n",
    "\n",
    "\n",
    "\n",
    "# dump string\n",
    "\n",
    "\n",
    "\n",
    "\n",
    "\n",
    "# get length of string\n",
    "\n",
    "\n",
    "\n"
   ]
  },
  {
   "cell_type": "code",
   "execution_count": null,
   "metadata": {},
   "outputs": [],
   "source": [
    "# demo: without seek: cursor still points to the end of the file\n",
    "\n",
    "\n",
    "\n",
    "\n",
    "\n"
   ]
  },
  {
   "cell_type": "code",
   "execution_count": null,
   "metadata": {},
   "outputs": [],
   "source": [
    "# demo: with seek\n",
    "\n",
    "\n",
    "\n",
    "\n",
    "\n"
   ]
  },
  {
   "cell_type": "code",
   "execution_count": null,
   "metadata": {},
   "outputs": [],
   "source": [
    "# demo: seek and tell\n",
    "\n",
    "\n",
    "\n",
    "\n",
    "\n",
    "\n"
   ]
  },
  {
   "cell_type": "code",
   "execution_count": null,
   "metadata": {},
   "outputs": [],
   "source": [
    "# demo: read file per line\n",
    "\n",
    "\n",
    "\n",
    "\n",
    "\n",
    "\n"
   ]
  },
  {
   "cell_type": "code",
   "execution_count": null,
   "metadata": {},
   "outputs": [],
   "source": [
    "# for loop to read lines one at a time\n",
    "\n",
    "\n",
    "\n",
    "\n",
    "\n"
   ]
  },
  {
   "cell_type": "markdown",
   "metadata": {},
   "source": [
    "#### What if the file is too large?"
   ]
  },
  {
   "cell_type": "code",
   "execution_count": null,
   "metadata": {},
   "outputs": [],
   "source": []
  }
 ],
 "metadata": {
  "kernelspec": {
   "display_name": "Python 3",
   "language": "python",
   "name": "python3"
  },
  "language_info": {
   "codemirror_mode": {
    "name": "ipython",
    "version": 3
   },
   "file_extension": ".py",
   "mimetype": "text/x-python",
   "name": "python",
   "nbconvert_exporter": "python",
   "pygments_lexer": "ipython3",
   "version": "3.7.4"
  }
 },
 "nbformat": 4,
 "nbformat_minor": 2
}
