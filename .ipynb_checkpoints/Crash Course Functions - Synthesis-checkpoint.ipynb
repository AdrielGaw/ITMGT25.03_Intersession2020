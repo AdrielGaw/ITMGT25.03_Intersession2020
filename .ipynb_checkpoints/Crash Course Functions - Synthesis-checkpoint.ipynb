{
 "cells": [
  {
   "cell_type": "markdown",
   "metadata": {},
   "source": [
    "1. ask for price\n",
    "2. ask for qty\n",
    "3. compute for subtotal\n",
    "4. compute for total\n",
    "5. display the total\n"
   ]
  },
  {
   "cell_type": "code",
   "execution_count": 2,
   "metadata": {},
   "outputs": [],
   "source": [
    "def compute_subtotal(price, qty):\n",
    "    subtotal = price * qty\n",
    "    return subtotal\n",
    "\n",
    "def compute_total(subtotal):\n",
    "    return subtotal * 1.12\n",
    "    "
   ]
  },
  {
   "cell_type": "code",
   "execution_count": 5,
   "metadata": {},
   "outputs": [
    {
     "name": "stdout",
     "output_type": "stream",
     "text": [
      "What is the price of the product? 110\n",
      "How many cups? 2\n",
      "Total amount due is  246.40000000000003\n"
     ]
    }
   ],
   "source": [
    "# ask for price\n",
    "price = float(input(\"What is the price of the product? \"))\n",
    "\n",
    "# ask for qty\n",
    "qty = float(input(\"How many cups? \"))\n",
    "\n",
    "# compute for subtotal\n",
    "subtotal = compute_subtotal(price, qty)\n",
    "\n",
    "# compute for total\n",
    "total = compute_total(subtotal)\n",
    "\n",
    "# display the total\n",
    "print(\"Total amount due is \", total)\n",
    "\n",
    "\n"
   ]
  },
  {
   "cell_type": "code",
   "execution_count": null,
   "metadata": {},
   "outputs": [],
   "source": []
  }
 ],
 "metadata": {
  "kernelspec": {
   "display_name": "Python 3",
   "language": "python",
   "name": "python3"
  },
  "language_info": {
   "codemirror_mode": {
    "name": "ipython",
    "version": 3
   },
   "file_extension": ".py",
   "mimetype": "text/x-python",
   "name": "python",
   "nbconvert_exporter": "python",
   "pygments_lexer": "ipython3",
   "version": "3.7.4"
  }
 },
 "nbformat": 4,
 "nbformat_minor": 2
}
